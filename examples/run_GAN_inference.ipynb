{
 "cells": [
  {
   "cell_type": "markdown",
   "metadata": {},
   "source": [
    "# Generate compounds conditioning on morphological profiles\n",
    "This notebook exemplifies how to generate SMILES with the GAN model conditioning on 10 morphological profiles provided in `example_profiles.csv`"
   ]
  },
  {
   "cell_type": "code",
   "execution_count": 1,
   "metadata": {},
   "outputs": [],
   "source": [
    "import os\n",
    "import numpy as np\n",
    "import pandas as pd\n",
    "import pickle\n",
    "\n",
    "import tensorflow as tf\n",
    "tf.compat.v1.logging.set_verbosity (tf.compat.v1.logging.ERROR)\n",
    "\n",
    "import cpmolgan.utils\n",
    "import cpmolgan.inference as infr\n",
    "import pkg_resources\n",
    "WEIGHTS_PATH = pkg_resources.resource_filename('cpmolgan','model_weights')\n"
   ]
  },
  {
   "cell_type": "markdown",
   "metadata": {},
   "source": [
    "## Input profiles"
   ]
  },
  {
   "cell_type": "code",
   "execution_count": 2,
   "metadata": {},
   "outputs": [
    {
     "data": {
      "text/html": [
       "<div>\n",
       "<style scoped>\n",
       "    .dataframe tbody tr th:only-of-type {\n",
       "        vertical-align: middle;\n",
       "    }\n",
       "\n",
       "    .dataframe tbody tr th {\n",
       "        vertical-align: top;\n",
       "    }\n",
       "\n",
       "    .dataframe thead th {\n",
       "        text-align: right;\n",
       "    }\n",
       "</style>\n",
       "<table border=\"1\" class=\"dataframe\">\n",
       "  <thead>\n",
       "    <tr style=\"text-align: right;\">\n",
       "      <th></th>\n",
       "      <th>Cells_AreaShape_Area</th>\n",
       "      <th>Cells_AreaShape_Center_X</th>\n",
       "      <th>Cells_AreaShape_Center_Y</th>\n",
       "      <th>Cells_AreaShape_Compactness</th>\n",
       "      <th>Cells_AreaShape_Eccentricity</th>\n",
       "      <th>Cells_AreaShape_Extent</th>\n",
       "      <th>Cells_AreaShape_FormFactor</th>\n",
       "      <th>Cells_AreaShape_MajorAxisLength</th>\n",
       "      <th>Cells_AreaShape_MaxFeretDiameter</th>\n",
       "      <th>Cells_AreaShape_MaximumRadius</th>\n",
       "      <th>...</th>\n",
       "      <th>Nuclei_Texture_Variance_DNA_5_0</th>\n",
       "      <th>Nuclei_Texture_Variance_ER_10_0</th>\n",
       "      <th>Nuclei_Texture_Variance_ER_3_0</th>\n",
       "      <th>Nuclei_Texture_Variance_ER_5_0</th>\n",
       "      <th>Nuclei_Texture_Variance_Mito_10_0</th>\n",
       "      <th>Nuclei_Texture_Variance_Mito_3_0</th>\n",
       "      <th>Nuclei_Texture_Variance_Mito_5_0</th>\n",
       "      <th>Nuclei_Texture_Variance_RNA_10_0</th>\n",
       "      <th>Nuclei_Texture_Variance_RNA_3_0</th>\n",
       "      <th>Nuclei_Texture_Variance_RNA_5_0</th>\n",
       "    </tr>\n",
       "  </thead>\n",
       "  <tbody>\n",
       "    <tr>\n",
       "      <th>0</th>\n",
       "      <td>-0.755125</td>\n",
       "      <td>0.683991</td>\n",
       "      <td>-1.585965</td>\n",
       "      <td>-0.997682</td>\n",
       "      <td>-1.268116</td>\n",
       "      <td>0.693606</td>\n",
       "      <td>1.537728</td>\n",
       "      <td>-0.912031</td>\n",
       "      <td>-0.947704</td>\n",
       "      <td>0.068990</td>\n",
       "      <td>...</td>\n",
       "      <td>-0.123760</td>\n",
       "      <td>-0.492436</td>\n",
       "      <td>-0.420035</td>\n",
       "      <td>-0.455986</td>\n",
       "      <td>0.140627</td>\n",
       "      <td>0.397992</td>\n",
       "      <td>0.691084</td>\n",
       "      <td>-0.343249</td>\n",
       "      <td>-0.082334</td>\n",
       "      <td>-0.039919</td>\n",
       "    </tr>\n",
       "    <tr>\n",
       "      <th>1</th>\n",
       "      <td>0.036511</td>\n",
       "      <td>1.861095</td>\n",
       "      <td>-0.486261</td>\n",
       "      <td>-0.233587</td>\n",
       "      <td>0.374287</td>\n",
       "      <td>-0.095672</td>\n",
       "      <td>1.264383</td>\n",
       "      <td>-0.566748</td>\n",
       "      <td>-0.125209</td>\n",
       "      <td>0.000000</td>\n",
       "      <td>...</td>\n",
       "      <td>0.014178</td>\n",
       "      <td>-1.434791</td>\n",
       "      <td>-0.541411</td>\n",
       "      <td>-0.992724</td>\n",
       "      <td>-0.166136</td>\n",
       "      <td>0.017312</td>\n",
       "      <td>-0.079206</td>\n",
       "      <td>-1.954931</td>\n",
       "      <td>-1.760399</td>\n",
       "      <td>-1.419219</td>\n",
       "    </tr>\n",
       "    <tr>\n",
       "      <th>2</th>\n",
       "      <td>0.176099</td>\n",
       "      <td>-0.033308</td>\n",
       "      <td>0.344421</td>\n",
       "      <td>1.742753</td>\n",
       "      <td>1.652603</td>\n",
       "      <td>-0.346675</td>\n",
       "      <td>-0.063462</td>\n",
       "      <td>0.227453</td>\n",
       "      <td>0.519483</td>\n",
       "      <td>-0.380120</td>\n",
       "      <td>...</td>\n",
       "      <td>0.731451</td>\n",
       "      <td>-0.822257</td>\n",
       "      <td>-0.369352</td>\n",
       "      <td>-0.583649</td>\n",
       "      <td>-0.187750</td>\n",
       "      <td>-0.656267</td>\n",
       "      <td>-0.649672</td>\n",
       "      <td>-1.193651</td>\n",
       "      <td>-1.498226</td>\n",
       "      <td>-1.550288</td>\n",
       "    </tr>\n",
       "    <tr>\n",
       "      <th>3</th>\n",
       "      <td>-1.020144</td>\n",
       "      <td>0.337245</td>\n",
       "      <td>-2.000214</td>\n",
       "      <td>0.699154</td>\n",
       "      <td>0.824849</td>\n",
       "      <td>-0.893710</td>\n",
       "      <td>-0.080042</td>\n",
       "      <td>-0.529243</td>\n",
       "      <td>-0.541148</td>\n",
       "      <td>-1.175627</td>\n",
       "      <td>...</td>\n",
       "      <td>-0.946836</td>\n",
       "      <td>0.234467</td>\n",
       "      <td>-0.184202</td>\n",
       "      <td>-0.073382</td>\n",
       "      <td>-0.128276</td>\n",
       "      <td>-0.887577</td>\n",
       "      <td>-0.619908</td>\n",
       "      <td>-0.710301</td>\n",
       "      <td>-1.092570</td>\n",
       "      <td>-0.918907</td>\n",
       "    </tr>\n",
       "    <tr>\n",
       "      <th>4</th>\n",
       "      <td>0.689864</td>\n",
       "      <td>1.611283</td>\n",
       "      <td>1.835242</td>\n",
       "      <td>1.751271</td>\n",
       "      <td>1.663987</td>\n",
       "      <td>-1.097318</td>\n",
       "      <td>-0.998787</td>\n",
       "      <td>1.051300</td>\n",
       "      <td>1.050965</td>\n",
       "      <td>0.304195</td>\n",
       "      <td>...</td>\n",
       "      <td>0.848972</td>\n",
       "      <td>-0.930476</td>\n",
       "      <td>-1.021213</td>\n",
       "      <td>-1.790375</td>\n",
       "      <td>-0.361636</td>\n",
       "      <td>-0.030407</td>\n",
       "      <td>-0.066948</td>\n",
       "      <td>1.126699</td>\n",
       "      <td>-0.247639</td>\n",
       "      <td>-0.267828</td>\n",
       "    </tr>\n",
       "  </tbody>\n",
       "</table>\n",
       "<p>5 rows × 1449 columns</p>\n",
       "</div>"
      ],
      "text/plain": [
       "   Cells_AreaShape_Area  Cells_AreaShape_Center_X  Cells_AreaShape_Center_Y  \\\n",
       "0             -0.755125                  0.683991                 -1.585965   \n",
       "1              0.036511                  1.861095                 -0.486261   \n",
       "2              0.176099                 -0.033308                  0.344421   \n",
       "3             -1.020144                  0.337245                 -2.000214   \n",
       "4              0.689864                  1.611283                  1.835242   \n",
       "\n",
       "   Cells_AreaShape_Compactness  Cells_AreaShape_Eccentricity  \\\n",
       "0                    -0.997682                     -1.268116   \n",
       "1                    -0.233587                      0.374287   \n",
       "2                     1.742753                      1.652603   \n",
       "3                     0.699154                      0.824849   \n",
       "4                     1.751271                      1.663987   \n",
       "\n",
       "   Cells_AreaShape_Extent  Cells_AreaShape_FormFactor  \\\n",
       "0                0.693606                    1.537728   \n",
       "1               -0.095672                    1.264383   \n",
       "2               -0.346675                   -0.063462   \n",
       "3               -0.893710                   -0.080042   \n",
       "4               -1.097318                   -0.998787   \n",
       "\n",
       "   Cells_AreaShape_MajorAxisLength  Cells_AreaShape_MaxFeretDiameter  \\\n",
       "0                        -0.912031                         -0.947704   \n",
       "1                        -0.566748                         -0.125209   \n",
       "2                         0.227453                          0.519483   \n",
       "3                        -0.529243                         -0.541148   \n",
       "4                         1.051300                          1.050965   \n",
       "\n",
       "   Cells_AreaShape_MaximumRadius               ...                 \\\n",
       "0                       0.068990               ...                  \n",
       "1                       0.000000               ...                  \n",
       "2                      -0.380120               ...                  \n",
       "3                      -1.175627               ...                  \n",
       "4                       0.304195               ...                  \n",
       "\n",
       "   Nuclei_Texture_Variance_DNA_5_0  Nuclei_Texture_Variance_ER_10_0  \\\n",
       "0                        -0.123760                        -0.492436   \n",
       "1                         0.014178                        -1.434791   \n",
       "2                         0.731451                        -0.822257   \n",
       "3                        -0.946836                         0.234467   \n",
       "4                         0.848972                        -0.930476   \n",
       "\n",
       "   Nuclei_Texture_Variance_ER_3_0  Nuclei_Texture_Variance_ER_5_0  \\\n",
       "0                       -0.420035                       -0.455986   \n",
       "1                       -0.541411                       -0.992724   \n",
       "2                       -0.369352                       -0.583649   \n",
       "3                       -0.184202                       -0.073382   \n",
       "4                       -1.021213                       -1.790375   \n",
       "\n",
       "   Nuclei_Texture_Variance_Mito_10_0  Nuclei_Texture_Variance_Mito_3_0  \\\n",
       "0                           0.140627                          0.397992   \n",
       "1                          -0.166136                          0.017312   \n",
       "2                          -0.187750                         -0.656267   \n",
       "3                          -0.128276                         -0.887577   \n",
       "4                          -0.361636                         -0.030407   \n",
       "\n",
       "   Nuclei_Texture_Variance_Mito_5_0  Nuclei_Texture_Variance_RNA_10_0  \\\n",
       "0                          0.691084                         -0.343249   \n",
       "1                         -0.079206                         -1.954931   \n",
       "2                         -0.649672                         -1.193651   \n",
       "3                         -0.619908                         -0.710301   \n",
       "4                         -0.066948                          1.126699   \n",
       "\n",
       "   Nuclei_Texture_Variance_RNA_3_0  Nuclei_Texture_Variance_RNA_5_0  \n",
       "0                        -0.082334                        -0.039919  \n",
       "1                        -1.760399                        -1.419219  \n",
       "2                        -1.498226                        -1.550288  \n",
       "3                        -1.092570                        -0.918907  \n",
       "4                        -0.247639                        -0.267828  \n",
       "\n",
       "[5 rows x 1449 columns]"
      ]
     },
     "execution_count": 2,
     "metadata": {},
     "output_type": "execute_result"
    }
   ],
   "source": [
    "profiles = pd.read_csv('example_profiles.csv')\n",
    "profiles.head()"
   ]
  },
  {
   "cell_type": "code",
   "execution_count": 3,
   "metadata": {},
   "outputs": [],
   "source": [
    "feature_cols , meta_cols = cpmolgan.utils.get_feature_cols(profiles)\n",
    "profiles[feature_cols].to_csv('example_profiles.csv',index=False)"
   ]
  },
  {
   "cell_type": "markdown",
   "metadata": {},
   "source": [
    "## 1. Apply quantile transformer"
   ]
  },
  {
   "cell_type": "code",
   "execution_count": 4,
   "metadata": {},
   "outputs": [
    {
     "name": "stdout",
     "output_type": "stream",
     "text": [
      "Total profiles: 10 \n",
      "Total features: 1449\n"
     ]
    }
   ],
   "source": [
    "quantile_transformer =  pickle.load( open( os.path.join(WEIGHTS_PATH,'quantile_transformer.pkl'), 'rb' ) )\n",
    "feature_cols , meta_cols = cpmolgan.utils.get_feature_cols(profiles)\n",
    "profiles[feature_cols] = quantile_transformer.transform(profiles[feature_cols].values) \n",
    "print('Total profiles: %i \\nTotal features: %i'%profiles.shape)"
   ]
  },
  {
   "cell_type": "markdown",
   "metadata": {},
   "source": [
    "## 2. Set compute environment "
   ]
  },
  {
   "cell_type": "code",
   "execution_count": 5,
   "metadata": {},
   "outputs": [],
   "source": [
    "use_gpu = True\n",
    "gpu_device = '15'\n",
    "\n",
    "if use_gpu:\n",
    "    os.environ['CUDA_VISIBLE_DEVICES'] = gpu_device\n",
    "    gpu_options = tf.GPUOptions(visible_device_list='0')\n",
    "    tf.Session(config=tf.ConfigProto(gpu_options=gpu_options))\n",
    "    tf.config.set_soft_device_placement(True)\n",
    "    tf.debugging.set_log_device_placement(True)\n",
    "else:\n",
    "    os.environ['CUDA_VISIBLE_DEVICES'] = '-1'\n",
    "    \n"
   ]
  },
  {
   "cell_type": "markdown",
   "metadata": {},
   "source": [
    "## 4. Load inference model"
   ]
  },
  {
   "cell_type": "code",
   "execution_count": 6,
   "metadata": {},
   "outputs": [
    {
     "name": "stdout",
     "output_type": "stream",
     "text": [
      "Device mapping:\n",
      "/job:localhost/replica:0/task:0/device:XLA_CPU:0 -> device: XLA_CPU device\n",
      "/job:localhost/replica:0/task:0/device:XLA_GPU:0 -> device: XLA_GPU device\n",
      "/job:localhost/replica:0/task:0/device:GPU:0 -> device: 0, name: Tesla V100-SXM3-32GB, pci bus id: 0000:e7:00.0, compute capability: 7.0\n",
      "\n"
     ]
    }
   ],
   "source": [
    "model_weigth_paths = {\n",
    "    'autoencoder': os.path.join(WEIGHTS_PATH,'autoencoder.h5'),\n",
    "    'wgan':{\n",
    "            'C': os.path.join(WEIGHTS_PATH,'gan_C.h5'),\n",
    "            'D': os.path.join(WEIGHTS_PATH,'gan_D.h5'),\n",
    "            'G': os.path.join(WEIGHTS_PATH,'gan_G.h5'),\n",
    "            'condition_encoder':os.path.join(WEIGHTS_PATH,'gan_condition_encoder.h5'),\n",
    "            'classifier':os.path.join(WEIGHTS_PATH,'gan_classifier.h5')\n",
    "            }\n",
    "}\n",
    "\n",
    "model = infr.InferenceModel( model_weigth_paths ) "
   ]
  },
  {
   "cell_type": "markdown",
   "metadata": {},
   "source": [
    "## 5. Generate molecules"
   ]
  },
  {
   "cell_type": "code",
   "execution_count": 7,
   "metadata": {},
   "outputs": [
    {
     "name": "stderr",
     "output_type": "stream",
     "text": [
      "100%|██████████| 10/10 [00:08<00:00,  1.17it/s]\n"
     ]
    }
   ],
   "source": [
    "random_seed = 10\n",
    "num_mols_per_profile = 10\n",
    "generated = infr.generate_compounds_multiple_conditions( model, profiles, feature_cols, meta_cols, seed=random_seed, nsamples=num_mols_per_profile)\n"
   ]
  },
  {
   "cell_type": "markdown",
   "metadata": {},
   "source": [
    "## 6. Check validity "
   ]
  },
  {
   "cell_type": "code",
   "execution_count": 8,
   "metadata": {},
   "outputs": [
    {
     "name": "stdout",
     "output_type": "stream",
     "text": [
      "valid percentage: 0.48\n"
     ]
    },
    {
     "data": {
      "text/html": [
       "<div>\n",
       "<style scoped>\n",
       "    .dataframe tbody tr th:only-of-type {\n",
       "        vertical-align: middle;\n",
       "    }\n",
       "\n",
       "    .dataframe tbody tr th {\n",
       "        vertical-align: top;\n",
       "    }\n",
       "\n",
       "    .dataframe thead th {\n",
       "        text-align: right;\n",
       "    }\n",
       "</style>\n",
       "<table border=\"1\" class=\"dataframe\">\n",
       "  <thead>\n",
       "    <tr style=\"text-align: right;\">\n",
       "      <th></th>\n",
       "      <th>SMILES</th>\n",
       "      <th>classification_score</th>\n",
       "      <th>SMILES_standard</th>\n",
       "      <th>valid</th>\n",
       "    </tr>\n",
       "  </thead>\n",
       "  <tbody>\n",
       "    <tr>\n",
       "      <th>0</th>\n",
       "      <td>COCCNC(=O)C(=CNC(=O)OCC(c1ccccc1)NC=O)</td>\n",
       "      <td>0.935220</td>\n",
       "      <td>COCCNC(=O)C=CNC(=O)OCC(NC=O)c1ccccc1</td>\n",
       "      <td>True</td>\n",
       "    </tr>\n",
       "    <tr>\n",
       "      <th>1</th>\n",
       "      <td>COcccc(C(=O)NNC(=O)Nccc(C(F)(F)F)nc(N1CCCCC1))</td>\n",
       "      <td>0.904445</td>\n",
       "      <td>None</td>\n",
       "      <td>False</td>\n",
       "    </tr>\n",
       "    <tr>\n",
       "      <th>2</th>\n",
       "      <td>O=CN(C12CC(F)C1)N(Cc1ccccc1)CCCN(Cc1cc(F)ccc1F...</td>\n",
       "      <td>0.953433</td>\n",
       "      <td>O=CN1N(Cc2ccccc2)CCCN(Cc2cc(F)ccc2F)CC(=O)C12C...</td>\n",
       "      <td>True</td>\n",
       "    </tr>\n",
       "    <tr>\n",
       "      <th>3</th>\n",
       "      <td>C#CCNC(=O)C1C(=O)NCN1CC(=O)C1CCOc2c(nn(C)c2C(C...</td>\n",
       "      <td>0.937077</td>\n",
       "      <td>C#CCNC(=O)C1C(=O)NCN1CC(=O)C1CCOc2c(nn(C)c2C(C...</td>\n",
       "      <td>True</td>\n",
       "    </tr>\n",
       "    <tr>\n",
       "      <th>4</th>\n",
       "      <td>COcc1cc(NC(=O)CC(NC(=O)CCc2ccc3c(c2)OCO3)CN)(C...</td>\n",
       "      <td>0.947332</td>\n",
       "      <td>None</td>\n",
       "      <td>False</td>\n",
       "    </tr>\n",
       "  </tbody>\n",
       "</table>\n",
       "</div>"
      ],
      "text/plain": [
       "                                              SMILES  classification_score  \\\n",
       "0             COCCNC(=O)C(=CNC(=O)OCC(c1ccccc1)NC=O)              0.935220   \n",
       "1     COcccc(C(=O)NNC(=O)Nccc(C(F)(F)F)nc(N1CCCCC1))              0.904445   \n",
       "2  O=CN(C12CC(F)C1)N(Cc1ccccc1)CCCN(Cc1cc(F)ccc1F...              0.953433   \n",
       "3  C#CCNC(=O)C1C(=O)NCN1CC(=O)C1CCOc2c(nn(C)c2C(C...              0.937077   \n",
       "4  COcc1cc(NC(=O)CC(NC(=O)CCc2ccc3c(c2)OCO3)CN)(C...              0.947332   \n",
       "\n",
       "                                     SMILES_standard  valid  \n",
       "0               COCCNC(=O)C=CNC(=O)OCC(NC=O)c1ccccc1   True  \n",
       "1                                               None  False  \n",
       "2  O=CN1N(Cc2ccccc2)CCCN(Cc2cc(F)ccc2F)CC(=O)C12C...   True  \n",
       "3  C#CCNC(=O)C1C(=O)NCN1CC(=O)C1CCOc2c(nn(C)c2C(C...   True  \n",
       "4                                               None  False  "
      ]
     },
     "execution_count": 8,
     "metadata": {},
     "output_type": "execute_result"
    }
   ],
   "source": [
    "generated['SMILES_standard']= cpmolgan.utils.clean_smiles_parallel( generated.SMILES )\n",
    "generated['valid'] = generated.SMILES_standard.isnull()==False\n",
    "print('valid percentage: %.2f'%(generated['valid'].sum()/len(generated)))\n",
    "generated.head()"
   ]
  },
  {
   "cell_type": "code",
   "execution_count": null,
   "metadata": {},
   "outputs": [],
   "source": []
  }
 ],
 "metadata": {
  "kernelspec": {
   "display_name": "Python 3.6.10 ('cpmolgan')",
   "language": "python",
   "name": "python3"
  },
  "language_info": {
   "codemirror_mode": {
    "name": "ipython",
    "version": 3
   },
   "file_extension": ".py",
   "mimetype": "text/x-python",
   "name": "python",
   "nbconvert_exporter": "python",
   "pygments_lexer": "ipython3",
   "version": "3.6.10"
  },
  "vscode": {
   "interpreter": {
    "hash": "c523d9eda279fa4bb4f5cb4e0f9aaca1b2e33fee79d53bba9fa5bcd6fe7fb4f9"
   }
  }
 },
 "nbformat": 4,
 "nbformat_minor": 4
}
