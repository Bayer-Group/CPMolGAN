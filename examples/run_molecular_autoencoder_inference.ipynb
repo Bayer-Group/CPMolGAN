{
 "cells": [
  {
   "cell_type": "markdown",
   "metadata": {},
   "source": [
    "# Compute molecular embeddings from SMILES\n",
    "This notebook exemplifies how to compute molecular embeddings from SMILES with the molecular autoencoder using 10 example SMILES provided in `example_smiles.csv`"
   ]
  },
  {
   "cell_type": "code",
   "execution_count": 1,
   "metadata": {},
   "outputs": [],
   "source": [
    "import os\n",
    "import numpy as np\n",
    "import pandas as pd\n",
    "\n",
    "import tensorflow as tf\n",
    "tf.compat.v1.logging.set_verbosity (tf.compat.v1.logging.ERROR)\n",
    "\n",
    "import cpmolgan.utils\n",
    "import cpmolgan.inference as infr\n",
    "import pkg_resources\n",
    "WEIGHTS_PATH = pkg_resources.resource_filename('cpmolgan','model_weights')\n"
   ]
  },
  {
   "cell_type": "markdown",
   "metadata": {},
   "source": [
    "## Input SMILES"
   ]
  },
  {
   "cell_type": "code",
   "execution_count": 2,
   "metadata": {},
   "outputs": [
    {
     "data": {
      "text/html": [
       "<div>\n",
       "<style scoped>\n",
       "    .dataframe tbody tr th:only-of-type {\n",
       "        vertical-align: middle;\n",
       "    }\n",
       "\n",
       "    .dataframe tbody tr th {\n",
       "        vertical-align: top;\n",
       "    }\n",
       "\n",
       "    .dataframe thead th {\n",
       "        text-align: right;\n",
       "    }\n",
       "</style>\n",
       "<table border=\"1\" class=\"dataframe\">\n",
       "  <thead>\n",
       "    <tr style=\"text-align: right;\">\n",
       "      <th></th>\n",
       "      <th>SMILES</th>\n",
       "    </tr>\n",
       "  </thead>\n",
       "  <tbody>\n",
       "    <tr>\n",
       "      <th>0</th>\n",
       "      <td>C[C@@H](CO)N1C[C@@H](C)[C@@H](CN(C)C(=O)Nc2ccc...</td>\n",
       "    </tr>\n",
       "    <tr>\n",
       "      <th>1</th>\n",
       "      <td>CCOC(=O)C(CC)Sc1nc2c(c(=O)[nH]c(=O)n2C)n1C/C=C...</td>\n",
       "    </tr>\n",
       "    <tr>\n",
       "      <th>2</th>\n",
       "      <td>C=CCN1C(=O)NC(=O)/C(=C\\Nc2ccc(OC)cc2C)C1=O</td>\n",
       "    </tr>\n",
       "    <tr>\n",
       "      <th>3</th>\n",
       "      <td>O=C([C@H]1[C@@H]2N[C@@H](Cn3c2ccc(-c2ccccc2)c3...</td>\n",
       "    </tr>\n",
       "    <tr>\n",
       "      <th>4</th>\n",
       "      <td>COc1ccc2nc(O)c(CN(CCc3ccccc3)C(C)=O)cc2c1</td>\n",
       "    </tr>\n",
       "  </tbody>\n",
       "</table>\n",
       "</div>"
      ],
      "text/plain": [
       "                                              SMILES\n",
       "0  C[C@@H](CO)N1C[C@@H](C)[C@@H](CN(C)C(=O)Nc2ccc...\n",
       "1  CCOC(=O)C(CC)Sc1nc2c(c(=O)[nH]c(=O)n2C)n1C/C=C...\n",
       "2         C=CCN1C(=O)NC(=O)/C(=C\\Nc2ccc(OC)cc2C)C1=O\n",
       "3  O=C([C@H]1[C@@H]2N[C@@H](Cn3c2ccc(-c2ccccc2)c3...\n",
       "4          COc1ccc2nc(O)c(CN(CCc3ccccc3)C(C)=O)cc2c1"
      ]
     },
     "execution_count": 2,
     "metadata": {},
     "output_type": "execute_result"
    }
   ],
   "source": [
    "cpds = pd.read_csv('example_smiles.csv')\n",
    "cpds.head()"
   ]
  },
  {
   "cell_type": "markdown",
   "metadata": {},
   "source": [
    "## 1. Clean SMILES \n",
    "Standardize SMILES and filter those exceeding the maximum smiles length"
   ]
  },
  {
   "cell_type": "code",
   "execution_count": 3,
   "metadata": {},
   "outputs": [],
   "source": [
    "cpds[\"SMILES_standard\"]= cpmolgan.utils.clean_smiles_parallel( cpds.SMILES )\n",
    "keep_idx = cpds.SMILES_standard.apply(lambda x: len(x) < infr.max_smiles_length )\n",
    "cpds = cpds[keep_idx].reset_index(drop=True)"
   ]
  },
  {
   "cell_type": "markdown",
   "metadata": {},
   "source": [
    "## 2. Set compute environment"
   ]
  },
  {
   "cell_type": "code",
   "execution_count": 4,
   "metadata": {},
   "outputs": [],
   "source": [
    "use_gpu = True\n",
    "gpu_device = '15'\n",
    "\n",
    "if use_gpu:\n",
    "    os.environ['CUDA_VISIBLE_DEVICES'] = gpu_device\n",
    "    gpu_options = tf.GPUOptions(visible_device_list='0')\n",
    "    tf.Session(config=tf.ConfigProto(gpu_options=gpu_options))\n",
    "    tf.config.set_soft_device_placement(True)\n",
    "    tf.debugging.set_log_device_placement(True)\n",
    "else:\n",
    "    os.environ['CUDA_VISIBLE_DEVICES'] = '-1'\n",
    "    \n"
   ]
  },
  {
   "cell_type": "markdown",
   "metadata": {},
   "source": [
    "## 3. Load inference model"
   ]
  },
  {
   "cell_type": "code",
   "execution_count": 5,
   "metadata": {},
   "outputs": [
    {
     "name": "stdout",
     "output_type": "stream",
     "text": [
      "Device mapping:\n",
      "/job:localhost/replica:0/task:0/device:XLA_CPU:0 -> device: XLA_CPU device\n",
      "/job:localhost/replica:0/task:0/device:GPU:0 -> device: 0, name: Tesla V100-SXM3-32GB, pci bus id: 0000:e7:00.0, compute capability: 7.0\n",
      "/job:localhost/replica:0/task:0/device:XLA_GPU:0 -> device: XLA_GPU device\n",
      "\n"
     ]
    }
   ],
   "source": [
    "model_weigth_paths = {\n",
    "    'autoencoder': os.path.join(WEIGHTS_PATH,'autoencoder.h5'),\n",
    "    'wgan':{\n",
    "            'C': os.path.join(WEIGHTS_PATH,'gan_C.h5'),\n",
    "            'D': os.path.join(WEIGHTS_PATH,'gan_D.h5'),\n",
    "            'G': os.path.join(WEIGHTS_PATH,'gan_G.h5'),\n",
    "            'condition_encoder':os.path.join(WEIGHTS_PATH,'gan_condition_encoder.h5'),\n",
    "            'classifier':os.path.join(WEIGHTS_PATH,'gan_classifier.h5')\n",
    "            }\n",
    "}\n",
    "\n",
    "model = infr.InferenceModel( model_weigth_paths ) "
   ]
  },
  {
   "cell_type": "markdown",
   "metadata": {},
   "source": [
    "## 4. Compute and remove invalid SELFIES "
   ]
  },
  {
   "cell_type": "code",
   "execution_count": 6,
   "metadata": {},
   "outputs": [
    {
     "name": "stdout",
     "output_type": "stream",
     "text": [
      "Removing 1 compounds with invalid selfies\n"
     ]
    }
   ],
   "source": [
    "smiles = cpds.SMILES_standard.values.astype(str)\n",
    "cpds['selfies'], valid_idx = model.encode_smiles_to_selfies(smiles)\n",
    "print(\"Removing %i compounds with invalid selfies\"%(valid_idx==False).sum())\n",
    "cpds = cpds.loc[valid_idx].reset_index(drop=True)\n"
   ]
  },
  {
   "cell_type": "markdown",
   "metadata": {},
   "source": [
    "## 5. Compute molecular embeddings (latents)"
   ]
  },
  {
   "cell_type": "code",
   "execution_count": 8,
   "metadata": {},
   "outputs": [
    {
     "name": "stdout",
     "output_type": "stream",
     "text": [
      "Latents shape (9, 259)\n"
     ]
    },
    {
     "data": {
      "text/html": [
       "<div>\n",
       "<style scoped>\n",
       "    .dataframe tbody tr th:only-of-type {\n",
       "        vertical-align: middle;\n",
       "    }\n",
       "\n",
       "    .dataframe tbody tr th {\n",
       "        vertical-align: top;\n",
       "    }\n",
       "\n",
       "    .dataframe thead th {\n",
       "        text-align: right;\n",
       "    }\n",
       "</style>\n",
       "<table border=\"1\" class=\"dataframe\">\n",
       "  <thead>\n",
       "    <tr style=\"text-align: right;\">\n",
       "      <th></th>\n",
       "      <th>SMILES</th>\n",
       "      <th>SMILES_standard</th>\n",
       "      <th>selfies</th>\n",
       "      <th>MolEmb_0</th>\n",
       "      <th>MolEmb_1</th>\n",
       "      <th>MolEmb_2</th>\n",
       "      <th>MolEmb_3</th>\n",
       "      <th>MolEmb_4</th>\n",
       "      <th>MolEmb_5</th>\n",
       "      <th>MolEmb_6</th>\n",
       "      <th>...</th>\n",
       "      <th>MolEmb_246</th>\n",
       "      <th>MolEmb_247</th>\n",
       "      <th>MolEmb_248</th>\n",
       "      <th>MolEmb_249</th>\n",
       "      <th>MolEmb_250</th>\n",
       "      <th>MolEmb_251</th>\n",
       "      <th>MolEmb_252</th>\n",
       "      <th>MolEmb_253</th>\n",
       "      <th>MolEmb_254</th>\n",
       "      <th>MolEmb_255</th>\n",
       "    </tr>\n",
       "  </thead>\n",
       "  <tbody>\n",
       "    <tr>\n",
       "      <th>0</th>\n",
       "      <td>C[C@@H](CO)N1C[C@@H](C)[C@@H](CN(C)C(=O)Nc2ccc...</td>\n",
       "      <td>CC1CN(C(C)CO)C(=O)CCCn2cc(nn2)COC1CN(C)C(=O)Nc...</td>\n",
       "      <td>[C][C][C][N][Branch1_3][Branch1_3][C][Branch1_...</td>\n",
       "      <td>-0.033392</td>\n",
       "      <td>0.056579</td>\n",
       "      <td>-0.025619</td>\n",
       "      <td>-0.009468</td>\n",
       "      <td>0.013080</td>\n",
       "      <td>-0.002021</td>\n",
       "      <td>0.015934</td>\n",
       "      <td>...</td>\n",
       "      <td>0.024896</td>\n",
       "      <td>0.005675</td>\n",
       "      <td>0.031988</td>\n",
       "      <td>-0.012734</td>\n",
       "      <td>-0.058496</td>\n",
       "      <td>-0.012953</td>\n",
       "      <td>-0.006910</td>\n",
       "      <td>0.074245</td>\n",
       "      <td>0.029673</td>\n",
       "      <td>-0.027300</td>\n",
       "    </tr>\n",
       "    <tr>\n",
       "      <th>1</th>\n",
       "      <td>C=CCN1C(=O)NC(=O)/C(=C\\Nc2ccc(OC)cc2C)C1=O</td>\n",
       "      <td>C=CCN1C(=O)NC(=O)C(=CNc2ccc(OC)cc2C)C1=O</td>\n",
       "      <td>[C][=C][C][N][C][Branch1_3][epsilon][=O][N][C]...</td>\n",
       "      <td>-0.006255</td>\n",
       "      <td>0.047208</td>\n",
       "      <td>0.007993</td>\n",
       "      <td>0.049088</td>\n",
       "      <td>-0.038123</td>\n",
       "      <td>-0.019305</td>\n",
       "      <td>0.026855</td>\n",
       "      <td>...</td>\n",
       "      <td>0.008762</td>\n",
       "      <td>0.038505</td>\n",
       "      <td>0.073897</td>\n",
       "      <td>-0.772491</td>\n",
       "      <td>0.056982</td>\n",
       "      <td>-0.028423</td>\n",
       "      <td>0.033767</td>\n",
       "      <td>0.038079</td>\n",
       "      <td>0.054006</td>\n",
       "      <td>0.011346</td>\n",
       "    </tr>\n",
       "    <tr>\n",
       "      <th>2</th>\n",
       "      <td>O=C([C@H]1[C@@H]2N[C@@H](Cn3c2ccc(-c2ccccc2)c3...</td>\n",
       "      <td>O=C(C1C2NC(Cn3c2ccc(-c2ccccc2)c3=O)C1CO)N1CCCCC1</td>\n",
       "      <td>[O][=C][Branch2_3][epsilon][#N][C][C][N][C][Br...</td>\n",
       "      <td>-0.084417</td>\n",
       "      <td>-0.040475</td>\n",
       "      <td>-0.035277</td>\n",
       "      <td>0.229187</td>\n",
       "      <td>0.037274</td>\n",
       "      <td>0.015411</td>\n",
       "      <td>-0.089161</td>\n",
       "      <td>...</td>\n",
       "      <td>0.003716</td>\n",
       "      <td>0.016624</td>\n",
       "      <td>0.013589</td>\n",
       "      <td>0.944191</td>\n",
       "      <td>-0.089152</td>\n",
       "      <td>0.013656</td>\n",
       "      <td>-0.061056</td>\n",
       "      <td>-0.024325</td>\n",
       "      <td>0.006532</td>\n",
       "      <td>-0.074826</td>\n",
       "    </tr>\n",
       "    <tr>\n",
       "      <th>3</th>\n",
       "      <td>COc1ccc2nc(O)c(CN(CCc3ccccc3)C(C)=O)cc2c1</td>\n",
       "      <td>COc1ccc2nc(O)c(CN(CCc3ccccc3)C(C)=O)cc2c1</td>\n",
       "      <td>[C][O][c][c][c][c][n][c][Branch1_3][epsilon][O...</td>\n",
       "      <td>-0.036326</td>\n",
       "      <td>0.075981</td>\n",
       "      <td>0.021750</td>\n",
       "      <td>0.032379</td>\n",
       "      <td>0.008221</td>\n",
       "      <td>-0.017829</td>\n",
       "      <td>0.029965</td>\n",
       "      <td>...</td>\n",
       "      <td>-0.033604</td>\n",
       "      <td>-0.028315</td>\n",
       "      <td>0.043125</td>\n",
       "      <td>0.324175</td>\n",
       "      <td>0.038988</td>\n",
       "      <td>0.018984</td>\n",
       "      <td>-0.012210</td>\n",
       "      <td>0.025412</td>\n",
       "      <td>0.048986</td>\n",
       "      <td>0.000085</td>\n",
       "    </tr>\n",
       "    <tr>\n",
       "      <th>4</th>\n",
       "      <td>CC1=C2[C@H]3OC(=O)[C@@H](C)[C@@H]3CC[C@@]2(C)C...</td>\n",
       "      <td>CC1=C2C3OC(=O)C(C)C3CCC2(C)C=CC1=O</td>\n",
       "      <td>[C][C][=C][C][O][C][Branch1_3][epsilon][=O][C]...</td>\n",
       "      <td>-0.008037</td>\n",
       "      <td>-0.029234</td>\n",
       "      <td>-0.007690</td>\n",
       "      <td>0.154807</td>\n",
       "      <td>-0.024859</td>\n",
       "      <td>-0.016883</td>\n",
       "      <td>-0.056083</td>\n",
       "      <td>...</td>\n",
       "      <td>0.050528</td>\n",
       "      <td>0.032958</td>\n",
       "      <td>0.010116</td>\n",
       "      <td>-0.059367</td>\n",
       "      <td>0.051832</td>\n",
       "      <td>0.004370</td>\n",
       "      <td>0.030975</td>\n",
       "      <td>0.004481</td>\n",
       "      <td>0.017562</td>\n",
       "      <td>-0.019272</td>\n",
       "    </tr>\n",
       "  </tbody>\n",
       "</table>\n",
       "<p>5 rows × 259 columns</p>\n",
       "</div>"
      ],
      "text/plain": [
       "                                              SMILES  \\\n",
       "0  C[C@@H](CO)N1C[C@@H](C)[C@@H](CN(C)C(=O)Nc2ccc...   \n",
       "1         C=CCN1C(=O)NC(=O)/C(=C\\Nc2ccc(OC)cc2C)C1=O   \n",
       "2  O=C([C@H]1[C@@H]2N[C@@H](Cn3c2ccc(-c2ccccc2)c3...   \n",
       "3          COc1ccc2nc(O)c(CN(CCc3ccccc3)C(C)=O)cc2c1   \n",
       "4  CC1=C2[C@H]3OC(=O)[C@@H](C)[C@@H]3CC[C@@]2(C)C...   \n",
       "\n",
       "                                     SMILES_standard  \\\n",
       "0  CC1CN(C(C)CO)C(=O)CCCn2cc(nn2)COC1CN(C)C(=O)Nc...   \n",
       "1           C=CCN1C(=O)NC(=O)C(=CNc2ccc(OC)cc2C)C1=O   \n",
       "2   O=C(C1C2NC(Cn3c2ccc(-c2ccccc2)c3=O)C1CO)N1CCCCC1   \n",
       "3          COc1ccc2nc(O)c(CN(CCc3ccccc3)C(C)=O)cc2c1   \n",
       "4                 CC1=C2C3OC(=O)C(C)C3CCC2(C)C=CC1=O   \n",
       "\n",
       "                                             selfies  MolEmb_0  MolEmb_1  \\\n",
       "0  [C][C][C][N][Branch1_3][Branch1_3][C][Branch1_... -0.033392  0.056579   \n",
       "1  [C][=C][C][N][C][Branch1_3][epsilon][=O][N][C]... -0.006255  0.047208   \n",
       "2  [O][=C][Branch2_3][epsilon][#N][C][C][N][C][Br... -0.084417 -0.040475   \n",
       "3  [C][O][c][c][c][c][n][c][Branch1_3][epsilon][O... -0.036326  0.075981   \n",
       "4  [C][C][=C][C][O][C][Branch1_3][epsilon][=O][C]... -0.008037 -0.029234   \n",
       "\n",
       "   MolEmb_2  MolEmb_3  MolEmb_4  MolEmb_5  MolEmb_6     ...      MolEmb_246  \\\n",
       "0 -0.025619 -0.009468  0.013080 -0.002021  0.015934     ...        0.024896   \n",
       "1  0.007993  0.049088 -0.038123 -0.019305  0.026855     ...        0.008762   \n",
       "2 -0.035277  0.229187  0.037274  0.015411 -0.089161     ...        0.003716   \n",
       "3  0.021750  0.032379  0.008221 -0.017829  0.029965     ...       -0.033604   \n",
       "4 -0.007690  0.154807 -0.024859 -0.016883 -0.056083     ...        0.050528   \n",
       "\n",
       "   MolEmb_247  MolEmb_248  MolEmb_249  MolEmb_250  MolEmb_251  MolEmb_252  \\\n",
       "0    0.005675    0.031988   -0.012734   -0.058496   -0.012953   -0.006910   \n",
       "1    0.038505    0.073897   -0.772491    0.056982   -0.028423    0.033767   \n",
       "2    0.016624    0.013589    0.944191   -0.089152    0.013656   -0.061056   \n",
       "3   -0.028315    0.043125    0.324175    0.038988    0.018984   -0.012210   \n",
       "4    0.032958    0.010116   -0.059367    0.051832    0.004370    0.030975   \n",
       "\n",
       "   MolEmb_253  MolEmb_254  MolEmb_255  \n",
       "0    0.074245    0.029673   -0.027300  \n",
       "1    0.038079    0.054006    0.011346  \n",
       "2   -0.024325    0.006532   -0.074826  \n",
       "3    0.025412    0.048986    0.000085  \n",
       "4    0.004481    0.017562   -0.019272  \n",
       "\n",
       "[5 rows x 259 columns]"
      ]
     },
     "execution_count": 8,
     "metadata": {},
     "output_type": "execute_result"
    }
   ],
   "source": [
    "latents = model.encode_selfies_to_latent(cpds.selfies)\n",
    "embd_cols = ['MolEmb_'+str(i) for i in range(latents.shape[1])]\n",
    "latents = pd.concat( [cpds, pd.DataFrame( columns=embd_cols, data=latents)], axis=1)\n",
    "print('Latents shape',latents.shape)\n",
    "latents.head()"
   ]
  },
  {
   "cell_type": "code",
   "execution_count": null,
   "metadata": {},
   "outputs": [],
   "source": []
  }
 ],
 "metadata": {
  "kernelspec": {
   "display_name": "Python 3.6.10 ('CP_GAN_Tuan2': conda)",
   "language": "python",
   "name": "python3"
  },
  "language_info": {
   "codemirror_mode": {
    "name": "ipython",
    "version": 3
   },
   "file_extension": ".py",
   "mimetype": "text/x-python",
   "name": "python",
   "nbconvert_exporter": "python",
   "pygments_lexer": "ipython3",
   "version": "3.6.10"
  },
  "vscode": {
   "interpreter": {
    "hash": "6ac5b6343103a146c856fffd340ba3004dec34eb7befe312d904b7926dcdf6a0"
   }
  }
 },
 "nbformat": 4,
 "nbformat_minor": 4
}
