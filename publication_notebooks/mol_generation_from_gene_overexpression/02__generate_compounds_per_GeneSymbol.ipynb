{
 "cells": [
  {
   "cell_type": "markdown",
   "metadata": {},
   "source": [
    "# Molecular generation conditioned on over-expression morphological profiles of selected genes"
   ]
  },
  {
   "cell_type": "code",
   "execution_count": 7,
   "metadata": {},
   "outputs": [],
   "source": [
    "import os\n",
    "import numpy as np\n",
    "import pandas as pd\n",
    "import pickle\n",
    "\n",
    "import tensorflow as tf\n",
    "tf.compat.v1.logging.set_verbosity (tf.compat.v1.logging.ERROR)\n",
    "\n",
    "import logging\n",
    "logging.basicConfig(level=logging.INFO, format ='%(levelname)s - %(message)s')\n",
    "tf.logging.set_verbosity(tf.logging.ERROR)\n",
    "\n",
    "from sklearn.preprocessing import QuantileTransformer\n",
    "from rdkit import Chem\n",
    "from rdkit.Chem.Descriptors import qed\n",
    "import sys\n",
    "sys.path.append(os.path.join(Chem.RDConfig.RDContribDir, 'SA_Score'))\n",
    "import sascorer\n",
    "\n",
    "import cpmolgan.utils as utils\n",
    "import cpmolgan.inference as infr\n",
    "import pkg_resources\n",
    "WEIGHTS_PATH = pkg_resources.resource_filename('cpmolgan','model_weights')\n"
   ]
  },
  {
   "cell_type": "markdown",
   "metadata": {},
   "source": [
    "### Arguments"
   ]
  },
  {
   "cell_type": "code",
   "execution_count": 8,
   "metadata": {},
   "outputs": [],
   "source": [
    "# Pick one repetition. This will define output naming and random seed\n",
    "repetition = ['n1','n2','n3'][0]\n",
    "\n",
    "args = {\n",
    "    'use_gpu': True,\n",
    "    'gpu_device':'2',\n",
    "    \"PassPhysChemFilter\": True,\n",
    "    \"PhysChemFilter_alerts_file\": \"../../data/sure_chembl_alerts.txt\",\n",
    "    \"N_valid_per_gene\":20000,\n",
    "    'filename_oe_profiles':'../../data/test_set_overexpression_normalized_profiles.csv',\n",
    "    \"output_dir\":f\"results/{repetition}_FILTERS/generated_mols\",\n",
    "}\n",
    "\n",
    "# Define random seed\n",
    "seed_dict = {\"n1\":0, \"n2\":100, \"n3\":200}\n",
    "seed_addition = seed_dict[repetition] \n",
    "\n",
    "# Automatic naming according to inputs\n",
    "filters_str = \"Valid\"\n",
    "if args[\"PassPhysChemFilter\"]: filters_str = filters_str+\"_PassPhysChemFilter\"\n",
    "args[\"output_dir\"] = args[\"output_dir\"].replace(\"FILTERS\", filters_str)\n",
    "\n",
    "# List of genes\n",
    "top_10_diff_genes = ['RAF1', 'JUN', 'ATF4', 'BRAF', 'CEBPA', 'RELB', 'MEK1', 'PIK3CD','AKT3', 'WWTR1']\n",
    "excape_genes = [\"TP53\",\"BRCA1\",\"NFKB1\",\"HSPA5\", \"CREBBP\", \"STAT1\", \"STAT3\",\"HIF1A\", \"NFKBIA\",\"JUN\",\"PRKAA1\",\"PDPK1\"]\n",
    "args[\"selected_genes\"] = excape_genes+top_10_diff_genes \n",
    "\n",
    "if not os.path.isdir(args[\"output_dir\"]):\n",
    "    os.makedirs(args[\"output_dir\"])\n"
   ]
  },
  {
   "cell_type": "markdown",
   "metadata": {},
   "source": [
    "## 1. Set compute environment "
   ]
  },
  {
   "cell_type": "code",
   "execution_count": 9,
   "metadata": {},
   "outputs": [],
   "source": [
    "if args['use_gpu']:\n",
    "    os.environ['CUDA_VISIBLE_DEVICES'] = args['gpu_device']\n",
    "    gpu_options = tf.GPUOptions(visible_device_list='0')\n",
    "    tf.Session(config=tf.ConfigProto(gpu_options=gpu_options))\n",
    "    tf.config.set_soft_device_placement(True)\n",
    "    tf.debugging.set_log_device_placement(True)\n",
    "else:\n",
    "    os.environ['CUDA_VISIBLE_DEVICES'] = '-1'"
   ]
  },
  {
   "cell_type": "markdown",
   "metadata": {
    "jupyter": {
     "source_hidden": true
    },
    "tags": []
   },
   "source": [
    "## 2. Load inference model"
   ]
  },
  {
   "cell_type": "code",
   "execution_count": 10,
   "metadata": {},
   "outputs": [],
   "source": [
    "model_weigth_paths = {\n",
    "    'autoencoder': os.path.join(WEIGHTS_PATH,'autoencoder.h5'),\n",
    "    'wgan':{\n",
    "            'C': os.path.join(WEIGHTS_PATH,'gan_C.h5'),\n",
    "            'D': os.path.join(WEIGHTS_PATH,'gan_D.h5'),\n",
    "            'G': os.path.join(WEIGHTS_PATH,'gan_G.h5'),\n",
    "            'condition_encoder':os.path.join(WEIGHTS_PATH,'gan_condition_encoder.h5'),\n",
    "            'classifier':os.path.join(WEIGHTS_PATH,'gan_classifier.h5')\n",
    "            }\n",
    "}\n",
    "\n",
    "model = infr.InferenceModel( model_weigth_paths ) "
   ]
  },
  {
   "cell_type": "markdown",
   "metadata": {},
   "source": [
    "## 3. Read profiles and apply quantile transformer"
   ]
  },
  {
   "cell_type": "code",
   "execution_count": 11,
   "metadata": {},
   "outputs": [
    {
     "name": "stderr",
     "output_type": "stream",
     "text": [
      "INFO - Number of targets: 21\n",
      "INFO - Targets: array(['BRCA1', 'AKT3', 'ATF4', 'HSPA5', 'RAF1', 'MEK1', 'BRAF', 'TP53',\n",
      "       'HIF1A', 'PIK3CD', 'JUN', 'NFKBIA', 'PDPK1', 'CEBPA', 'CREBBP',\n",
      "       'STAT1', 'STAT3', 'RELB', 'NFKB1', 'WWTR1', 'PRKAA1'], dtype=object)\n",
      "INFO - Number of Morphological profiles: 216\n"
     ]
    }
   ],
   "source": [
    "data_oe = pd.read_csv(args['filename_oe_profiles'], index_col=0 )\n",
    "data_oe = data_oe.drop(columns=['ORF Sequence', 'Quality Control','Median Replicate Correlation','Morphological Cluster ID'])\n",
    "dmso_idx = data_oe['Control Type'] =='negative control'\n",
    "data_oe.loc[dmso_idx,\"Gene_Symbol\"] = \"DMSO\"\n",
    "keep_idx = data_oe.Gene_Symbol.isin(args[\"selected_genes\"])\n",
    "data_oe = data_oe[keep_idx].reset_index(drop=True)\n",
    "feature_cols , info_cols = utils.get_feature_cols(data_oe)\n",
    "logging.info('Number of targets: %i'%len(data_oe.Gene_Symbol.unique()))\n",
    "logging.info('Targets: %a'%data_oe.Gene_Symbol.unique())\n",
    "\n",
    "# Apply quantile transformer\n",
    "quantile_transformer =  pickle.load( open( os.path.join(WEIGHTS_PATH,'quantile_transformer.pkl'), 'rb' ) )\n",
    "data_oe[feature_cols] = quantile_transformer.transform(data_oe[feature_cols].values)   \n",
    "logging.info('Number of Morphological profiles: %i'%data_oe.shape[0])"
   ]
  },
  {
   "cell_type": "markdown",
   "metadata": {},
   "source": [
    "## 4. Generate a fixed number of valid, pass_physchem_filter = true molecules per gene"
   ]
  },
  {
   "cell_type": "code",
   "execution_count": 12,
   "metadata": {},
   "outputs": [
    {
     "name": "stderr",
     "output_type": "stream",
     "text": [
      "INFO - ------ TP53 ---------\n",
      "WARNING - File results/n1_Valid_PassPhysChemFilter/generated_mols/TP53__20000_Valid_PassPhysChemFilter.csv already exists. Skipping it \n",
      "\n",
      "INFO - ------ BRCA1 ---------\n",
      "WARNING - File results/n1_Valid_PassPhysChemFilter/generated_mols/BRCA1__20000_Valid_PassPhysChemFilter.csv already exists. Skipping it \n",
      "\n",
      "INFO - ------ NFKB1 ---------\n",
      "WARNING - File results/n1_Valid_PassPhysChemFilter/generated_mols/NFKB1__20000_Valid_PassPhysChemFilter.csv already exists. Skipping it \n",
      "\n",
      "INFO - ------ HSPA5 ---------\n",
      "WARNING - File results/n1_Valid_PassPhysChemFilter/generated_mols/HSPA5__20000_Valid_PassPhysChemFilter.csv already exists. Skipping it \n",
      "\n",
      "INFO - ------ CREBBP ---------\n",
      "WARNING - File results/n1_Valid_PassPhysChemFilter/generated_mols/CREBBP__20000_Valid_PassPhysChemFilter.csv already exists. Skipping it \n",
      "\n",
      "INFO - ------ STAT1 ---------\n",
      "WARNING - File results/n1_Valid_PassPhysChemFilter/generated_mols/STAT1__20000_Valid_PassPhysChemFilter.csv already exists. Skipping it \n",
      "\n",
      "INFO - ------ STAT3 ---------\n",
      "WARNING - File results/n1_Valid_PassPhysChemFilter/generated_mols/STAT3__20000_Valid_PassPhysChemFilter.csv already exists. Skipping it \n",
      "\n",
      "INFO - ------ HIF1A ---------\n",
      "WARNING - File results/n1_Valid_PassPhysChemFilter/generated_mols/HIF1A__20000_Valid_PassPhysChemFilter.csv already exists. Skipping it \n",
      "\n",
      "INFO - ------ NFKBIA ---------\n",
      "WARNING - File results/n1_Valid_PassPhysChemFilter/generated_mols/NFKBIA__20000_Valid_PassPhysChemFilter.csv already exists. Skipping it \n",
      "\n",
      "INFO - ------ JUN ---------\n",
      "WARNING - File results/n1_Valid_PassPhysChemFilter/generated_mols/JUN__20000_Valid_PassPhysChemFilter.csv already exists. Skipping it \n",
      "\n",
      "INFO - ------ PRKAA1 ---------\n",
      "WARNING - File results/n1_Valid_PassPhysChemFilter/generated_mols/PRKAA1__20000_Valid_PassPhysChemFilter.csv already exists. Skipping it \n",
      "\n",
      "INFO - ------ PDPK1 ---------\n",
      "WARNING - File results/n1_Valid_PassPhysChemFilter/generated_mols/PDPK1__20000_Valid_PassPhysChemFilter.csv already exists. Skipping it \n",
      "\n",
      "INFO - ------ RAF1 ---------\n",
      "WARNING - File results/n1_Valid_PassPhysChemFilter/generated_mols/RAF1__20000_Valid_PassPhysChemFilter.csv already exists. Skipping it \n",
      "\n",
      "INFO - ------ JUN ---------\n",
      "WARNING - File results/n1_Valid_PassPhysChemFilter/generated_mols/JUN__20000_Valid_PassPhysChemFilter.csv already exists. Skipping it \n",
      "\n",
      "INFO - ------ ATF4 ---------\n",
      "WARNING - File results/n1_Valid_PassPhysChemFilter/generated_mols/ATF4__20000_Valid_PassPhysChemFilter.csv already exists. Skipping it \n",
      "\n",
      "INFO - ------ BRAF ---------\n",
      "WARNING - File results/n1_Valid_PassPhysChemFilter/generated_mols/BRAF__20000_Valid_PassPhysChemFilter.csv already exists. Skipping it \n",
      "\n",
      "INFO - ------ CEBPA ---------\n",
      "WARNING - File results/n1_Valid_PassPhysChemFilter/generated_mols/CEBPA__20000_Valid_PassPhysChemFilter.csv already exists. Skipping it \n",
      "\n",
      "INFO - ------ RELB ---------\n",
      "WARNING - File results/n1_Valid_PassPhysChemFilter/generated_mols/RELB__20000_Valid_PassPhysChemFilter.csv already exists. Skipping it \n",
      "\n",
      "INFO - ------ MEK1 ---------\n",
      "WARNING - File results/n1_Valid_PassPhysChemFilter/generated_mols/MEK1__20000_Valid_PassPhysChemFilter.csv already exists. Skipping it \n",
      "\n",
      "INFO - ------ PIK3CD ---------\n",
      "WARNING - File results/n1_Valid_PassPhysChemFilter/generated_mols/PIK3CD__20000_Valid_PassPhysChemFilter.csv already exists. Skipping it \n",
      "\n",
      "INFO - ------ AKT3 ---------\n",
      "WARNING - File results/n1_Valid_PassPhysChemFilter/generated_mols/AKT3__20000_Valid_PassPhysChemFilter.csv already exists. Skipping it \n",
      "\n",
      "INFO - ------ WWTR1 ---------\n",
      "WARNING - File results/n1_Valid_PassPhysChemFilter/generated_mols/WWTR1__20000_Valid_PassPhysChemFilter.csv already exists. Skipping it \n",
      "\n"
     ]
    }
   ],
   "source": [
    "physchem_filterer = utils.PhysChemFilters(args['PhysChemFilter_alerts_file'])\n",
    "\n",
    "for gene in args[\"selected_genes\"]:\n",
    "    \n",
    "    logging.info(\"------ %s ---------\"%gene)\n",
    "\n",
    "    # Define output file and check that it doesnt aleady exits\n",
    "    output_file = os.path.join(args[\"output_dir\"], gene+\"__\"+str(args[\"N_valid_per_gene\"])+\"_\"+filters_str+\".csv\")\n",
    "    if os.path.isfile(output_file):\n",
    "        logging.warning(\"File %s already exists. Skipping it \\n\"%output_file)\n",
    "        continue\n",
    "    print(output_file)\n",
    "    # Generate molecules\n",
    "    gene_data = data_oe.loc[ data_oe[\"Gene_Symbol\"] == gene ].reset_index(drop=True)\n",
    "    if args[\"PassPhysChemFilter\"]:\n",
    "        N_per_condition = 2000\n",
    "        if gene == \"DMSO\": # we have one order of magnitude more samples for DMSO than all genes\n",
    "            N_per_condition = 200\n",
    "    else:\n",
    "        N_per_condition = 500\n",
    "\n",
    "    generated_final = pd.DataFrame()\n",
    "    i = 0    \n",
    "    while len(generated_final) < args[\"N_valid_per_gene\"]:\n",
    "        temp_generated = infr.generate_compounds_multiple_conditions( model, gene_data, feature_cols, info_cols, seed=i+seed_addition, nsamples = N_per_condition)\n",
    "        temp_generated = infr.filter_valid_and_unique(temp_generated, cond_ID_cols=[\"Gene_Symbol\"], select_unique=False)\n",
    "        if args[\"PassPhysChemFilter\"]:\n",
    "            temp_generated[\"pass_physchem_filter\"] =  temp_generated[\"SMILES_standard\"].apply(lambda x: physchem_filterer.apply_filters(x))\n",
    "            temp_generated = temp_generated.loc[ temp_generated[\"pass_physchem_filter\"] ==True ]\n",
    "        generated_final = pd.concat([generated_final, temp_generated])\n",
    "        logging.info(\"%s iteration %i: %i valid molecules, PassPhysChemFilter=%r \"%(gene,i,len(generated_final),args[\"PassPhysChemFilter\"]) )\n",
    "        i = i +1\n",
    "    generated_final = generated_final.reset_index(drop=True)\n",
    "    generated_final = generated_final.iloc[0:args[\"N_valid_per_gene\"]]\n",
    "    \n",
    "    # Add Synthetic accessibility and Drug likeness scores\n",
    "    rdkit_mols = [ Chem.MolFromSmiles(x) for x in generated_final.SMILES_standard ]\n",
    "    generated_final[\"SA_score\"]  = [ sascorer.calculateScore(x) for x in rdkit_mols]\n",
    "    generated_final[\"QED_score\"] = [ qed(x) for x in rdkit_mols]\n",
    "    \n",
    "    # Save results\n",
    "    generated_final.to_csv(output_file)\n",
    "    "
   ]
  }
 ],
 "metadata": {
  "kernelspec": {
   "display_name": "Python 3.6.10 ('cpmolgan')",
   "language": "python",
   "name": "python3"
  },
  "language_info": {
   "codemirror_mode": {
    "name": "ipython",
    "version": 3
   },
   "file_extension": ".py",
   "mimetype": "text/x-python",
   "name": "python",
   "nbconvert_exporter": "python",
   "pygments_lexer": "ipython3",
   "version": "3.6.10"
  },
  "vscode": {
   "interpreter": {
    "hash": "c523d9eda279fa4bb4f5cb4e0f9aaca1b2e33fee79d53bba9fa5bcd6fe7fb4f9"
   }
  }
 },
 "nbformat": 4,
 "nbformat_minor": 4
}
