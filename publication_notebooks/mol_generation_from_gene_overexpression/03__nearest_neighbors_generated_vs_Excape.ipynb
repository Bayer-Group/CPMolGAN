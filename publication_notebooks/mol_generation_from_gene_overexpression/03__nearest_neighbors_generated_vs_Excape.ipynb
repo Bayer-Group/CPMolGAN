{
 "cells": [
  {
   "cell_type": "markdown",
   "metadata": {},
   "source": [
    "# Find nearest neighbors between generated molecules and agonist from the ExCAPE database based on dice similarity of Morgan fingerprints "
   ]
  },
  {
   "cell_type": "code",
   "execution_count": 1,
   "metadata": {},
   "outputs": [],
   "source": [
    "import os\n",
    "import numpy as np\n",
    "import pandas as pd\n",
    "import tqdm\n",
    "\n",
    "import cpmolgan.utils as utils\n",
    "import cpmolgan.nearest_neighbors as nn\n",
    "\n",
    "import logging \n",
    "logging.basicConfig(level=logging.INFO, format ='%(levelname)s - %(message)s')\n"
   ]
  },
  {
   "cell_type": "markdown",
   "metadata": {},
   "source": [
    "## 1.  Arguments"
   ]
  },
  {
   "cell_type": "code",
   "execution_count": 2,
   "metadata": {},
   "outputs": [],
   "source": [
    "# Pick one repetition\n",
    "repetition = ['n1','n2','n3'][0]\n",
    "\n",
    "args = {\n",
    "    'K':10,\n",
    "    'filename_data_Excape':'../../data/ExCAPE_ligands_agonist_noTrainSet.csv',\n",
    "    'generated_dir':f'results/{repetition}_Valid_PassPhysChemFilter/generated_mols',\n",
    "    'generated_ref_filename':\"GENE__20000_Valid_PassPhysChemFilter.csv\",\n",
    "}\n",
    "\n",
    "args[\"results_dir\"]= args[\"generated_dir\"].replace(\"generated_mols\",\"nearest_neighbors\")\n",
    "if not os.path.isdir(args[\"results_dir\"]):\n",
    "    os.makedirs(args[\"results_dir\"])\n"
   ]
  },
  {
   "cell_type": "markdown",
   "metadata": {},
   "source": [
    "## 2. Define comparison pairs"
   ]
  },
  {
   "cell_type": "code",
   "execution_count": 3,
   "metadata": {},
   "outputs": [],
   "source": [
    "top_10_diff_genes = ['RAF1', 'JUN', 'ATF4', 'BRAF', 'CEBPA', 'RELB', 'MEK1', 'PIK3CD','AKT3', 'WWTR1']\n",
    "Excape_genes = [\"NFKB1\",\"STAT3\",\"TP53\",\"BRCA1\",\"HSPA5\",\"CREBBP\",\"STAT1\",\"HIF1A\",\"NFKBIA\",\"PRKAA1\",\"PDPK1\"]\n",
    "comparison_sets =[]\n",
    "for Excape_gene in Excape_genes:\n",
    "    comparison_sets.append( {\"Excape\":[Excape_gene], \n",
    "                             \"OE\":[Excape_gene,\"DMSO\"] + top_10_diff_genes})\n"
   ]
  },
  {
   "cell_type": "markdown",
   "metadata": {},
   "source": [
    "## 2. Read ExCAPE agonists and compute fingerprints"
   ]
  },
  {
   "cell_type": "code",
   "execution_count": 4,
   "metadata": {},
   "outputs": [
    {
     "name": "stderr",
     "output_type": "stream",
     "text": [
      "INFO - Computing Excape fingerprints\n"
     ]
    }
   ],
   "source": [
    "data_Excape_all= pd.read_csv(args['filename_data_Excape'],index_col=0)\n",
    "data_Excape_all [\"Molecule_ID\"] = data_Excape_all.groupby(by=\"Gene_Symbol\").cumcount() # enumerate molecules for each gene\n",
    "data_Excape_all = data_Excape_all[ [\"Molecule_ID\",\"Gene_Symbol\",\"SMILES_standard\"] ]\n",
    "\n",
    "logging.info(\"Computing Excape fingerprints\")\n",
    "data_Excape_all[\"ecfp\"]  = nn.smiles_to_ecfps_parallel( data_Excape_all.SMILES_standard.values )\n",
    "data_Excape_all[\"maccs\"] = nn.smiles_to_maccs_parallel( data_Excape_all.SMILES_standard.values )"
   ]
  },
  {
   "cell_type": "markdown",
   "metadata": {},
   "source": [
    "## 3. KNNs for generated molecules conditioned on Overexpression profiles\n",
    "- Data2Excape: For each (OE gene, Excape gene) pair, find the closes K nearest neighbors to each generated compounds among Excape compounds\n",
    "- Excape2Data: For each (OE gene, Excape gene) pair, find the closes K nearest neighbors to each Excape molecule among all generated compounds "
   ]
  },
  {
   "cell_type": "markdown",
   "metadata": {},
   "source": [
    "### Iterate over the comparison pairs"
   ]
  },
  {
   "cell_type": "code",
   "execution_count": 5,
   "metadata": {},
   "outputs": [
    {
     "name": "stderr",
     "output_type": "stream",
     "text": [
      "INFO - ------ Excape NFKB1 vs. OE NFKB1 ------\n",
      "INFO - File aleady exist !!!! \n",
      "INFO - ------ Excape NFKB1 vs. OE DMSO ------\n",
      "INFO - File aleady exist !!!! \n",
      "INFO - ------ Excape NFKB1 vs. OE RAF1 ------\n",
      "INFO - File aleady exist !!!! \n",
      "INFO - ------ Excape NFKB1 vs. OE JUN ------\n",
      "INFO - File aleady exist !!!! \n",
      "INFO - ------ Excape NFKB1 vs. OE ATF4 ------\n",
      "INFO - File aleady exist !!!! \n",
      "INFO - ------ Excape NFKB1 vs. OE BRAF ------\n",
      "INFO - File aleady exist !!!! \n",
      "INFO - ------ Excape NFKB1 vs. OE CEBPA ------\n",
      "INFO - Computing fingerprints\n",
      "INFO - Computing KNNs\n",
      "INFO - Saving results\n"
     ]
    }
   ],
   "source": [
    "for comp_set in comparison_sets:\n",
    "    for gene_Excape in comp_set[\"Excape\"]:\n",
    "        for gene_OE in comp_set[\"OE\"]:\n",
    "            logging.info(\"------ Excape %s vs. OE %s ------\"%(gene_Excape, gene_OE) )\n",
    "            \n",
    "            # Define output filenames\n",
    "            output_ID = \"Excape_\"+gene_Excape+\"__OE_\"+gene_OE\n",
    "            output_ID = output_ID + \"__20000MolsPerGene\"\n",
    "            output_filename_data2Excape = os.path.join( args[\"results_dir\"], str(args['K'])+\"KNNs_Mols2Excape__\"+output_ID+\".csv\")\n",
    "            output_filename_Excape2data = os.path.join( args[\"results_dir\"], str(args['K'])+\"KNNs_Excape2Mols__\"+output_ID+\".csv\")\n",
    "\n",
    "            if not os.path.isfile( output_filename_data2Excape ): \n",
    "\n",
    "                # Collect data for all genes in the current comparison set\n",
    "                data_Excape = data_Excape_all.loc[ data_Excape_all.Gene_Symbol == gene_Excape ].reset_index(drop=True)\n",
    "                OE_file = os.path.join( args[\"generated_dir\"], args[\"generated_ref_filename\"].replace(\"GENE\",gene_OE) ) \n",
    "                data_OE = pd.read_csv( OE_file, index_col=0 )\n",
    "\n",
    "                # Compute fingerprints\n",
    "                logging.info(\"Computing fingerprints\")\n",
    "                data_OE[\"ecfp\"]  = nn.smiles_to_ecfps_parallel( data_OE.SMILES_standard.values )\n",
    "                data_OE[\"maccs\"] = nn.smiles_to_maccs_parallel( data_OE.SMILES_standard.values )\n",
    "\n",
    "                data_OE[\"Gene_Symbol_conditioned\"], data_Excape[\"Gene_Symbol_conditioned\"]= gene_OE, gene_OE\n",
    "                data_OE[\"Gene_Symbol_Excape\"], data_Excape[\"Gene_Symbol_Excape\"] = gene_Excape, gene_Excape\n",
    "                \n",
    "                # Find nearest neighbors and save results\n",
    "                logging.info(\"Computing KNNs\")\n",
    "                knns_data2Excape, knns_Excape2data = nn.set_to_set_knns( [data_OE, data_Excape] , args['K'])\n",
    "                \n",
    "                logging.info(\"Saving results\")\n",
    "                knns_data2Excape.to_csv(output_filename_data2Excape)\n",
    "                logging.info(\"Saved %s\"%output_filename_data2Excape)\n",
    "                knns_Excape2data.to_csv(output_filename_Excape2data)\n",
    "                logging.info(\"Saved %s\"%output_filename_Excape2data)\n",
    "            else:\n",
    "                logging.info(\"File aleady exist !!!! \")\n",
    "\n",
    "print(\"done\")"
   ]
  },
  {
   "cell_type": "code",
   "execution_count": null,
   "metadata": {},
   "outputs": [],
   "source": []
  }
 ],
 "metadata": {
  "kernelspec": {
   "display_name": "Python 3.6.10 ('cpmolgan')",
   "language": "python",
   "name": "python3"
  },
  "language_info": {
   "codemirror_mode": {
    "name": "ipython",
    "version": 3
   },
   "file_extension": ".py",
   "mimetype": "text/x-python",
   "name": "python",
   "nbconvert_exporter": "python",
   "pygments_lexer": "ipython3",
   "version": "3.6.10"
  },
  "vscode": {
   "interpreter": {
    "hash": "c523d9eda279fa4bb4f5cb4e0f9aaca1b2e33fee79d53bba9fa5bcd6fe7fb4f9"
   }
  }
 },
 "nbformat": 4,
 "nbformat_minor": 4
}
