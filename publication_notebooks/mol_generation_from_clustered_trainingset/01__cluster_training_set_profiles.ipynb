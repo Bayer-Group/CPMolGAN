{
 "cells": [
  {
   "cell_type": "markdown",
   "metadata": {},
   "source": [
    "# Cluster morphological profiles from the training set "
   ]
  },
  {
   "cell_type": "code",
   "execution_count": 1,
   "metadata": {},
   "outputs": [],
   "source": [
    "import os\n",
    "import pandas as pd\n",
    "import numpy as np\n",
    "import pickle\n",
    "import matplotlib.pyplot as plt\n",
    "from sklearn.cluster import KMeans\n",
    "import figure_2 as f2\n",
    "from scipy import stats\n",
    "from scipy.spatial import distance\n",
    "\n",
    "import cpmolgan.utils as utils\n",
    "import cpmolgan.nearest_neighbors as nn\n",
    "import cpmolgan.visualization as vi\n"
   ]
  },
  {
   "cell_type": "markdown",
   "metadata": {},
   "source": [
    "## Inputs\n"
   ]
  },
  {
   "cell_type": "code",
   "execution_count": 2,
   "metadata": {},
   "outputs": [],
   "source": [
    "args = {\n",
    "    'filename_train_profiles':\"../../data/train_set_30kcpds_normalized_profiles.csv.gz\",\n",
    "    'output_filename_cluster_profiles':\"results/train_set_cluster_profiles_median_per_smiles.csv\",\n",
    "    'ouput_filename_model':'results/Kmeans_model.pkl',\n",
    "\n",
    "}\n"
   ]
  },
  {
   "cell_type": "markdown",
   "metadata": {},
   "source": [
    "### 1. Read data"
   ]
  },
  {
   "cell_type": "code",
   "execution_count": 3,
   "metadata": {},
   "outputs": [
    {
     "name": "stdout",
     "output_type": "stream",
     "text": [
      "No compound samples: 126779\n",
      "No DMSO samples: 26572\n"
     ]
    }
   ],
   "source": [
    "train = pd.read_csv(args['filename_train_profiles'],index_col=0)\n",
    "train = train.rename(columns={\"Metadata_Plate\":'Plate',\"Metadata_Well\":\"Well\"})\n",
    "feature_cols, _ = utils.get_feature_cols(train)\n",
    "dmso_idx = train[\"Metadata_broad_sample\"]==\"DMSO\"\n",
    "data_dmso = train.loc[dmso_idx].reset_index(drop=True)\n",
    "data_cpd = train.loc[dmso_idx==False].dropna(axis=0,how=\"any\")\n",
    "data_cpd = data_cpd.sort_values(by=[\"SMILES_standard\",\"Plate\",\"Well\"]).reset_index(drop=True)\n",
    "unique_smiles = pd.Series(data_cpd.SMILES_standard.unique())\n",
    "print(\"No compound samples: %i\"% len(data_cpd))\n",
    "print(\"No DMSO samples: %i\"% len(data_dmso))"
   ]
  },
  {
   "cell_type": "markdown",
   "metadata": {},
   "source": [
    "### 2. Calculate median profile per SMILES_standard"
   ]
  },
  {
   "cell_type": "code",
   "execution_count": 4,
   "metadata": {},
   "outputs": [
    {
     "name": "stdout",
     "output_type": "stream",
     "text": [
      "No of compound median profiles: 15413\n"
     ]
    }
   ],
   "source": [
    "data_cpd_med = data_cpd.groupby(by=\"SMILES_standard\").median().reset_index()\n",
    "data_cpd_med = data_cpd_med.drop(columns={\"Plate\"})\n",
    "print(\"No of compound median profiles: %i\"%len(data_cpd_med))"
   ]
  },
  {
   "cell_type": "markdown",
   "metadata": {},
   "source": [
    "### 3. Enrich compound set with 1% DMSO samples"
   ]
  },
  {
   "cell_type": "code",
   "execution_count": 5,
   "metadata": {},
   "outputs": [],
   "source": [
    "N = int(0.01*len(data_cpd_med))\n",
    "dmso_subsample = data_dmso.sample(N, random_state=10)\n",
    "data_cpd_med[\"label\"]= \"Cpd\"\n",
    "dmso_subsample[\"label\"]=\"DMSO\"\n",
    "data = pd.concat( [data_cpd_med, dmso_subsample[data_cpd_med.columns]] ).reset_index(drop=True)"
   ]
  },
  {
   "cell_type": "markdown",
   "metadata": {},
   "source": [
    "### 4. Fit and save Kmeans model"
   ]
  },
  {
   "cell_type": "code",
   "execution_count": 6,
   "metadata": {},
   "outputs": [],
   "source": [
    "Nclusters = 20\n",
    "metric = \"euclidean\" \n",
    "\n",
    "# Fit model\n",
    "model = KMeans(n_clusters=Nclusters, random_state=0)\n",
    "features = data[feature_cols].values\n",
    "model.fit(features)\n",
    "\n",
    "# Sort centroids by increasing distance to control cluster (0)\n",
    "clusters = model.predict( features )            \n",
    "ctrl_cluster = stats.mode( clusters[ data[\"label\"]==\"DMSO\" ] )[0][0]\n",
    "model = f2.sort_centroids( model, ctrl_cluster , metric=metric)\n",
    "\n",
    "# Save results\n",
    "pickle.dump(model, open(args['ouput_filename_model'], \"wb\"))"
   ]
  },
  {
   "cell_type": "markdown",
   "metadata": {},
   "source": [
    "### 5. Run model and save median profiles with annotated clusters"
   ]
  },
  {
   "cell_type": "code",
   "execution_count": 7,
   "metadata": {},
   "outputs": [
    {
     "name": "stdout",
     "output_type": "stream",
     "text": [
      "Saved file results/train_set_cluster_profiles_median_per_smiles.csv\n"
     ]
    }
   ],
   "source": [
    "data['cluster'] = model.predict( data[feature_cols].values )\n",
    "data[\"cluster\"] = data[\"cluster\"].apply(lambda x: \"Cluster\"+str(x))\n",
    "ordered_cols = list(set(data.columns).difference(feature_cols)) + feature_cols\n",
    "data[ordered_cols].to_csv(args['output_filename_cluster_profiles'])\n",
    "print(\"Saved file %s\"%args['output_filename_cluster_profiles'])"
   ]
  },
  {
   "cell_type": "code",
   "execution_count": null,
   "metadata": {},
   "outputs": [],
   "source": []
  }
 ],
 "metadata": {
  "kernelspec": {
   "display_name": "Python 3.6.10 ('CP_GAN_Tuan2')",
   "language": "python",
   "name": "python3"
  },
  "language_info": {
   "codemirror_mode": {
    "name": "ipython",
    "version": 3
   },
   "file_extension": ".py",
   "mimetype": "text/x-python",
   "name": "python",
   "nbconvert_exporter": "python",
   "pygments_lexer": "ipython3",
   "version": "3.6.10"
  },
  "vscode": {
   "interpreter": {
    "hash": "6ac5b6343103a146c856fffd340ba3004dec34eb7befe312d904b7926dcdf6a0"
   }
  }
 },
 "nbformat": 4,
 "nbformat_minor": 4
}
