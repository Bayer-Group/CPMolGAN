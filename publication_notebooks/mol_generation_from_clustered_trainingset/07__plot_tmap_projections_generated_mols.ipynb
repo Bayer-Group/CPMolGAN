{
 "cells": [
  {
   "cell_type": "markdown",
   "metadata": {},
   "source": [
    "# Compute tmap projections of generated molecules conditioned on several cluster pairs\n",
    "- This notebook uses a different environment (`environment_tmap.yml`) since Rdkit needed a older version of pandas not compatible with faerun\n",
    "- Output figures are provided in html format which migth not be visualized correctly in some IDEs. Read the html file susing your broswer for better visualization"
   ]
  },
  {
   "cell_type": "code",
   "execution_count": 1,
   "metadata": {},
   "outputs": [],
   "source": [
    "import pickle\n",
    "import numpy as np\n",
    "import pandas as pd\n",
    "import tmap\n",
    "\n",
    "from tqdm import tqdm\n",
    "import os\n",
    "from joblib import Parallel, delayed\n",
    "\n",
    "import cpmolgan.utils as utils\n",
    "import cpmolgan.visualization as vi\n",
    "\n",
    "import tmap_visualization as tv\n"
   ]
  },
  {
   "cell_type": "code",
   "execution_count": 2,
   "metadata": {},
   "outputs": [],
   "source": [
    "args = {\n",
    "    'generated_mols_dir':\"results/generated_mols\",\n",
    "    'generated_ref_filename':\"CLUSTER__15000_Valid.csv\",\n",
    "    'figures_dir':'figures'\n",
    "}\n",
    "\n",
    "# Directory to save computed t-map coordinates \n",
    "args['results_dir'] = args['generated_mols_dir'].replace('generated_mols','tmap_projections')\n",
    "if not os.path.isdir(args['results_dir']):\n",
    "    os.makedirs(args['results_dir'])\n",
    "\n",
    "# Directory to save resulting figures\n",
    "if not os.path.isdir(args[\"figures_dir\"]):\n",
    "    os.makedirs(args[\"figures_dir\"])"
   ]
  },
  {
   "cell_type": "markdown",
   "metadata": {},
   "source": [
    "## 1. DMSO close vs DMSO distant\n",
    "This section generates plots from Figure 2f"
   ]
  },
  {
   "cell_type": "markdown",
   "metadata": {},
   "source": [
    "#### 1.1 Read and select data and Compute trees"
   ]
  },
  {
   "cell_type": "code",
   "execution_count": 3,
   "metadata": {},
   "outputs": [
    {
     "name": "stdout",
     "output_type": "stream",
     "text": [
      "Loaded coordinates\n"
     ]
    }
   ],
   "source": [
    "N_per_cluster = 5000\n",
    "exp_id = 'generated_cluster_DMSO_close_vs_DMSO_distant'\n",
    "output_file_coord = os.path.join( args['results_dir'], exp_id+'__tmap_coordinates.pkl')\n",
    "output_file_data = os.path.join( args['results_dir'], exp_id+'__tmap_data_and_labels.csv')\n",
    "\n",
    "if not os.path.isfile(output_file_coord):\n",
    "    \n",
    "    # Read file from all clusters\n",
    "    gen_clust = pd.DataFrame()\n",
    "    filenames = [ f for f in os.listdir(args['generated_mols_dir']) if f.endswith('.csv')]\n",
    "    for filename in filenames:\n",
    "        gen_clust = pd.concat([gen_clust, pd.read_csv(os.path.join(args['generated_mols_dir'],filename), index_col=0)])\n",
    "    gen_clust = gen_clust.loc[gen_clust.label=='Cpd'].drop(columns='label')\n",
    "    gen_clust = gen_clust.drop_duplicates(subset='SMILES_standard')\n",
    "    gen_clust = gen_clust.groupby(by='cluster').sample(N_per_cluster, random_state=10)\n",
    "\n",
    "    # Sample a random selection per cluster and asign label columns\n",
    "    gen_clust['int_cluster'] = gen_clust['cluster'].apply(lambda x: int(x.replace('Cluster','')))\n",
    "    gen_clust['label'] =  1\n",
    "    dmso_close_idx = gen_clust.int_cluster <10\n",
    "    gen_clust.loc[dmso_close_idx, 'label'] = 0\n",
    "    gen_clust.loc[dmso_close_idx,'label_name'] = 'DMSO-close'\n",
    "    gen_clust.loc[dmso_close_idx==False,'label_name'] = 'DMSO-distant'\n",
    "    gen_clust = gen_clust.sort_values(by='label')\n",
    "\n",
    "    # Remove problematic SMILES (who know why thet are there)\n",
    "    print(\"Checking molecules\")\n",
    "    mols = Parallel(n_jobs=16)( delayed(utils.smile_to_mol)(s) for s in tqdm(gen_clust.SMILES_standard))\n",
    "    invalid_mol_idx = np.array(mols) == None\n",
    "    gen_clust = gen_clust.loc[  invalid_mol_idx==False ].reset_index(drop=True)\n",
    "    print('Removed %i invalid mols'%invalid_mol_idx.sum())\n",
    "\n",
    "    # Compute forest and coordinates \n",
    "    print('computing LSH Forest')\n",
    "    lf_gen_clust = tv.lsh_forest_from_smiles( gen_clust.SMILES_standard )\n",
    "    print('computing and saving coordinates')\n",
    "    x_gen_clust, y_gen_clust, s_gen_clust, t_gen_clust, _ = tmap.layout_from_lsh_forest(lf_gen_clust, tv.config )\n",
    "    \n",
    "    # Save results\n",
    "    tv.save_coordinates( x_gen_clust, y_gen_clust, s_gen_clust, t_gen_clust, output_file_coord)\n",
    "    gen_clust.to_csv(output_file_data)\n",
    "else:\n",
    "    #lf_gen_clust = tv.load_lsh_forest(output_file)\n",
    "    x_gen_clust, y_gen_clust, s_gen_clust, t_gen_clust = tv.load_coordinates(output_file_coord)\n",
    "    gen_clust = pd.read_csv(output_file_data,index_col=0)\n",
    "    print('Loaded coordinates')\n"
   ]
  },
  {
   "cell_type": "markdown",
   "metadata": {},
   "source": [
    "#### 1.2 Plot trees"
   ]
  },
  {
   "cell_type": "code",
   "execution_count": 4,
   "metadata": {},
   "outputs": [
    {
     "name": "stdout",
     "output_type": "stream",
     "text": [
      "<matplotlib.colors.ListedColormap object at 0x7ff97a3b8be0>\n"
     ]
    },
    {
     "data": {
      "text/html": [
       "\n",
       "        <iframe\n",
       "            width=\"100%\"\n",
       "            height=\"500\"\n",
       "            src=\"./figures/ tmap_DMSO_close_vs_DMSO_distant.html\"\n",
       "            frameborder=\"0\"\n",
       "            allowfullscreen\n",
       "        ></iframe>\n",
       "        "
      ],
      "text/plain": [
       "<IPython.lib.display.IFrame at 0x7ff999e2c0f0>"
      ]
     },
     "metadata": {},
     "output_type": "display_data"
    },
    {
     "data": {
      "text/html": [
       "<a href='./figures/ tmap_DMSO_close_vs_DMSO_distant.html' target='_blank'>./figures/ tmap_DMSO_close_vs_DMSO_distant.html</a><br>"
      ],
      "text/plain": [
       "/wuppertal/ghpxd/Projects/CellPainting_GAN/publication_git_repo/CPMolGAN/publication_notebooks/mol_generation_from_clustered_trainingset/figures/ tmap_DMSO_close_vs_DMSO_distant.html"
      ]
     },
     "metadata": {},
     "output_type": "display_data"
    }
   ],
   "source": [
    "output_filename = os.path.join(args['figures_dir'], ' tmap_DMSO_close_vs_DMSO_distant')\n",
    "colors = [ [0,0,0,1], [0.7,0.7,0.7]]\n",
    "\n",
    "tv.plot_tree(gen_clust, x_gen_clust, y_gen_clust, s_gen_clust, t_gen_clust, \n",
    "             html_output_file=output_filename, colors=colors, plot_name='generated', max_point_size=3)"
   ]
  },
  {
   "cell_type": "markdown",
   "metadata": {},
   "source": [
    "## 2. Cluster_subsets\n",
    "This section generates plots from Figure 2d-e"
   ]
  },
  {
   "cell_type": "markdown",
   "metadata": {},
   "source": [
    "#### 2.1 Select a set of clusters "
   ]
  },
  {
   "cell_type": "code",
   "execution_count": 5,
   "metadata": {},
   "outputs": [],
   "source": [
    "# List of close clusters from Figure 2d (uncomment for picking one)\n",
    "#selected_clusters_int = [ 0,2]\n",
    "#selected_clusters_int = [ 3,4]\n",
    "selected_clusters_int = [ 5,7]\n",
    "#selected_clusters_int = [ 9,11]\n",
    "#selected_clusters_int = [ 8,13]\n",
    "\n",
    "# List of far clusters from Figure 2e (uncomment for picking one)\n",
    "#selected_clusters_int = [ 0,7]\n",
    "#selected_clusters_int = [ 6,9]\n",
    "#selected_clusters_int = [ 4,10]\n",
    "#selected_clusters_int = [ 1,8]\n",
    "#selected_clusters_int = [ 3,19]\n",
    "\n",
    "sorted_idx = np.argsort( selected_clusters_int )\n",
    "selected_clusters = np.array([ 'Cluster'+str(c) for c in selected_clusters_int ])[sorted_idx]"
   ]
  },
  {
   "cell_type": "markdown",
   "metadata": {},
   "source": [
    "#### 2.2 Read data and Compute trees"
   ]
  },
  {
   "cell_type": "code",
   "execution_count": 6,
   "metadata": {},
   "outputs": [
    {
     "name": "stdout",
     "output_type": "stream",
     "text": [
      "Loaded coordinates\n"
     ]
    }
   ],
   "source": [
    "N_per_cluster = 5000\n",
    "exp_id = 'generated_cluster_'+'_'.join(selected_clusters)\n",
    "output_file_coord =  os.path.join( args['results_dir'],exp_id+'__tmap_coordinates.pkl')\n",
    "output_file_data =  os.path.join( args['results_dir'],exp_id+'__tmap_data_and_labels.csv')\n",
    "\n",
    "if not os.path.isfile(output_file_coord):\n",
    "    \n",
    "    # Read files from all selected clusters\n",
    "    gen_clust = pd.DataFrame()\n",
    "    for cluster in selected_clusters:\n",
    "        filename = os.path.join(args['generated_mols_dir'], args['generated_ref_filename'].replace('CLUSTER',cluster))\n",
    "        gen_clust = pd.concat([gen_clust, pd.read_csv(filename, index_col=0)])\n",
    "    gen_clust = gen_clust.loc[gen_clust.label=='Cpd'].drop(columns='label')\n",
    "    gen_clust = gen_clust.drop_duplicates(subset='SMILES_standard')\n",
    "    gen_clust = gen_clust.groupby(by='cluster').sample(N_per_cluster, random_state=10)\n",
    "    gen_clust = gen_clust.loc[ gen_clust.cluster.isin(selected_clusters)]\n",
    "\n",
    "    # Sample a random selection per cluster and asign label columns\n",
    "    sequential_cluster_dict = dict( zip(selected_clusters,range(len(selected_clusters))) )\n",
    "    gen_clust['label_name'] =  gen_clust.cluster\n",
    "    gen_clust['label'] = gen_clust['label_name'].map(sequential_cluster_dict)\n",
    "    gen_clust = gen_clust.sort_values(by='label')\n",
    "\n",
    "    # Remove problematic SMILES (who know why thet are there)\n",
    "    print(\"Checking molecules\")\n",
    "    mols = Parallel(n_jobs=16)( delayed(utils.smile_to_mol)(s) for s in tqdm(gen_clust.SMILES_standard))\n",
    "    invalid_mol_idx = np.array(mols) == None\n",
    "    gen_clust = gen_clust.loc[  invalid_mol_idx==False ].reset_index(drop=True)\n",
    "    print('Removed %i invalid mols'%invalid_mol_idx.sum())\n",
    "\n",
    "    # Compute forest and coordinates \n",
    "    print('computing LSH Forest')\n",
    "    lf_gen_clust = tv.lsh_forest_from_smiles( gen_clust.SMILES_standard )\n",
    "    print('computing and saving coordinates')\n",
    "    x_gen_clust, y_gen_clust, s_gen_clust, t_gen_clust, _ = tmap.layout_from_lsh_forest(lf_gen_clust, tv.config )\n",
    "    \n",
    "    # Save results\n",
    "    tv.save_coordinates( x_gen_clust, y_gen_clust, s_gen_clust, t_gen_clust, output_file_coord)\n",
    "    gen_clust.to_csv(output_file_data)\n",
    "else:\n",
    "    #lf_gen_clust = tv.load_lsh_forest(output_file)\n",
    "    x_gen_clust, y_gen_clust, s_gen_clust, t_gen_clust = tv.load_coordinates(output_file_coord)\n",
    "    gen_clust = pd.read_csv(output_file_data,index_col=0)\n",
    "    print('Loaded coordinates')\n"
   ]
  },
  {
   "cell_type": "markdown",
   "metadata": {},
   "source": [
    "#### 2.3 Display tree"
   ]
  },
  {
   "cell_type": "code",
   "execution_count": 7,
   "metadata": {},
   "outputs": [
    {
     "name": "stdout",
     "output_type": "stream",
     "text": [
      "<matplotlib.colors.ListedColormap object at 0x7ff974d6bf98>\n"
     ]
    },
    {
     "data": {
      "text/html": [
       "\n",
       "        <iframe\n",
       "            width=\"100%\"\n",
       "            height=\"500\"\n",
       "            src=\"./figures/ tmap_generated_cluster_Cluster5_Cluster7.html\"\n",
       "            frameborder=\"0\"\n",
       "            allowfullscreen\n",
       "        ></iframe>\n",
       "        "
      ],
      "text/plain": [
       "<IPython.lib.display.IFrame at 0x7ff97a3f3358>"
      ]
     },
     "metadata": {},
     "output_type": "display_data"
    },
    {
     "data": {
      "text/html": [
       "<a href='./figures/ tmap_generated_cluster_Cluster5_Cluster7.html' target='_blank'>./figures/ tmap_generated_cluster_Cluster5_Cluster7.html</a><br>"
      ],
      "text/plain": [
       "/wuppertal/ghpxd/Projects/CellPainting_GAN/publication_git_repo/CPMolGAN/publication_notebooks/mol_generation_from_clustered_trainingset/figures/ tmap_generated_cluster_Cluster5_Cluster7.html"
      ]
     },
     "metadata": {},
     "output_type": "display_data"
    }
   ],
   "source": [
    "output_filename = os.path.join(args['figures_dir'], ' tmap_'+exp_id)\n",
    "colors = [ vi.cluster_colors_dict[c] for c in selected_clusters]\n",
    "\n",
    "tv.plot_tree(gen_clust, x_gen_clust, y_gen_clust, s_gen_clust, t_gen_clust, \n",
    "             html_output_file=output_filename, colors=colors, plot_name='generated', max_point_size=4)"
   ]
  },
  {
   "cell_type": "code",
   "execution_count": null,
   "metadata": {},
   "outputs": [],
   "source": []
  }
 ],
 "metadata": {
  "kernelspec": {
   "display_name": "Python 3.6.10 ('cpmolgan_visual')",
   "language": "python",
   "name": "python3"
  },
  "language_info": {
   "codemirror_mode": {
    "name": "ipython",
    "version": 3
   },
   "file_extension": ".py",
   "mimetype": "text/x-python",
   "name": "python",
   "nbconvert_exporter": "python",
   "pygments_lexer": "ipython3",
   "version": "3.6.10"
  },
  "vscode": {
   "interpreter": {
    "hash": "7b49f64ee5a5754e9eaee0dad52ab2d4dc028c6f76250559f9d55e63933dedea"
   }
  }
 },
 "nbformat": 4,
 "nbformat_minor": 4
}
