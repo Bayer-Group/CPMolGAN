{
 "cells": [
  {
   "cell_type": "markdown",
   "metadata": {},
   "source": [
    "# Find nearest neighbors between generated molecules from cluster pairs based on cosine distance of Molecular embeddings"
   ]
  },
  {
   "cell_type": "code",
   "execution_count": 1,
   "metadata": {},
   "outputs": [],
   "source": [
    "import os\n",
    "import numpy as np\n",
    "import pandas as pd\n",
    "import tqdm\n",
    "\n",
    "import cpmolgan.utils as utils\n",
    "import cpmolgan.nearest_neighbors as nn\n",
    "\n",
    "import logging \n",
    "logging.basicConfig(level=logging.INFO, format ='%(levelname)s - %(message)s')"
   ]
  },
  {
   "cell_type": "markdown",
   "metadata": {},
   "source": [
    "### Arguments"
   ]
  },
  {
   "cell_type": "code",
   "execution_count": 2,
   "metadata": {},
   "outputs": [],
   "source": [
    "args = {\n",
    "    'metric':'cosine',\n",
    "    'K':5,\n",
    "    'mol_embedding_dir':\"results/molecular_embeddings\",\n",
    "    'generated_ref_filename':\"CLUSTER__15000_Valid.csv\",\n",
    "}\n",
    "args[\"results_dir\"]= args[\"mol_embedding_dir\"].replace(\"molecular_embeddings\",\"nearest_neighbors\")\n",
    "\n",
    "if not os.path.isdir(args[\"results_dir\"]):\n",
    "    os.makedirs(args[\"results_dir\"])"
   ]
  },
  {
   "cell_type": "markdown",
   "metadata": {},
   "source": [
    "## 2. Define comparison groups\n",
    "Comparison against cluster 0 for the 3 MST branches in Figure 2c"
   ]
  },
  {
   "cell_type": "code",
   "execution_count": 3,
   "metadata": {},
   "outputs": [],
   "source": [
    "comparison_sets = [ [\"Cluster0\", \"Cluster0\"],\n",
    "                    [\"Cluster0\", \"Cluster2\"],\n",
    "                    [\"Cluster0\", \"Cluster8\"],\n",
    "                    [\"Cluster0\", \"Cluster19\"],\n",
    "                    [\"Cluster0\", \"Cluster3\"],\n",
    "                    [\"Cluster0\", \"Cluster10\"],\n",
    "                    [\"Cluster0\", \"Cluster18\"],\n",
    "                    [\"Cluster0\", \"Cluster5\"],\n",
    "                    [\"Cluster0\", \"Cluster11\"],\n",
    "                    [\"Cluster0\", \"Cluster15\"],\n",
    "]\n",
    "        "
   ]
  },
  {
   "cell_type": "markdown",
   "metadata": {},
   "source": [
    "## 3. Compute KNNS"
   ]
  },
  {
   "cell_type": "code",
   "execution_count": 4,
   "metadata": {},
   "outputs": [
    {
     "name": "stderr",
     "output_type": "stream",
     "text": [
      "INFO - ------  Cluster0 vs. Cluster0 ------\n",
      "INFO - File aleady exist !!!! \n",
      "INFO - ------  Cluster0 vs. Cluster2 ------\n",
      "INFO - File aleady exist !!!! \n",
      "INFO - ------  Cluster0 vs. Cluster8 ------\n",
      "INFO - File aleady exist !!!! \n",
      "INFO - ------  Cluster0 vs. Cluster19 ------\n",
      "INFO - File aleady exist !!!! \n",
      "INFO - ------  Cluster0 vs. Cluster3 ------\n",
      "INFO - File aleady exist !!!! \n",
      "INFO - ------  Cluster0 vs. Cluster10 ------\n",
      "INFO - File aleady exist !!!! \n",
      "INFO - ------  Cluster0 vs. Cluster18 ------\n",
      "INFO - File aleady exist !!!! \n",
      "INFO - ------  Cluster0 vs. Cluster5 ------\n",
      "INFO - File aleady exist !!!! \n",
      "INFO - ------  Cluster0 vs. Cluster11 ------\n",
      "INFO - File aleady exist !!!! \n",
      "INFO - ------  Cluster0 vs. Cluster15 ------\n",
      "INFO - File aleady exist !!!! \n"
     ]
    }
   ],
   "source": [
    "for comp_set in comparison_sets:\n",
    "    cluster_l, cluster_r = comp_set\n",
    "    \n",
    "    logging.info(\"------  %s vs. %s ------\"%(cluster_l, cluster_r) )\n",
    "    \n",
    "    # Define output filenames\n",
    "    output_ID_l2r = cluster_l+\"_\"+cluster_r+\"__MolEmbedding_\"+args['metric']\n",
    "    output_ID_r2l = cluster_r+\"_\"+cluster_l+\"__MolEmbedding_\"+args['metric']  \n",
    "    output_filename_l2r = os.path.join( args[\"results_dir\"], str(args['K'])+\"KNNs_\"+output_ID_l2r+\".csv\")\n",
    "    output_filename_r2l = os.path.join( args[\"results_dir\"], str(args['K'])+\"KNNs_\"+output_ID_r2l+\".csv\")\n",
    "\n",
    "    if not os.path.isfile(output_filename_l2r): \n",
    "            \n",
    "        # Collect data for current comparison set\n",
    "        data_filename_l = os.path.join( args[\"mol_embedding_dir\"], args[\"generated_ref_filename\"].replace(\"CLUSTER\",cluster_l) ) \n",
    "        data_filename_r = os.path.join( args[\"mol_embedding_dir\"], args[\"generated_ref_filename\"].replace(\"CLUSTER\",cluster_r) ) \n",
    "        data_l = pd.read_csv( data_filename_l, index_col=0 )\n",
    "        data_r = pd.read_csv( data_filename_r, index_col=0 )\n",
    "        embedding_cols = [ c  for c in data_l.columns if 'MolEmb' in c]\n",
    "\n",
    "        # Find nearest neighbors and save results\n",
    "        logging.info(\"Computing KNNs\")\n",
    "        knns_l2r, knns_r2l = nn.set_to_set_knns_mol_embeddings( [data_l, data_r], args['K'], embedding_cols, metric=args['metric'])\n",
    "        logging.info(\"Saving results\")\n",
    "        knns_l2r.to_csv(output_filename_l2r)\n",
    "        logging.info(\"Saved %s\"%output_filename_l2r)\n",
    "        knns_r2l.to_csv(output_filename_r2l)\n",
    "        logging.info(\"Saved %s\"%output_filename_r2l)\n",
    "        \n",
    "    else:\n",
    "        logging.info(\"File aleady exist !!!! \")"
   ]
  },
  {
   "cell_type": "code",
   "execution_count": null,
   "metadata": {},
   "outputs": [],
   "source": []
  },
  {
   "cell_type": "code",
   "execution_count": null,
   "metadata": {},
   "outputs": [],
   "source": []
  }
 ],
 "metadata": {
  "kernelspec": {
   "display_name": "Python 3.6.10 ('cpmolgan')",
   "language": "python",
   "name": "python3"
  },
  "language_info": {
   "codemirror_mode": {
    "name": "ipython",
    "version": 3
   },
   "file_extension": ".py",
   "mimetype": "text/x-python",
   "name": "python",
   "nbconvert_exporter": "python",
   "pygments_lexer": "ipython3",
   "version": "3.6.10"
  },
  "vscode": {
   "interpreter": {
    "hash": "c523d9eda279fa4bb4f5cb4e0f9aaca1b2e33fee79d53bba9fa5bcd6fe7fb4f9"
   }
  }
 },
 "nbformat": 4,
 "nbformat_minor": 4
}
