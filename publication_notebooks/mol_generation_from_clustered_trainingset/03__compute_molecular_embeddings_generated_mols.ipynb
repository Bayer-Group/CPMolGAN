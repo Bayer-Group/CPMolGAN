{
 "cells": [
  {
   "cell_type": "markdown",
   "metadata": {},
   "source": [
    "# Compute molecular embeddings of generated molecules "
   ]
  },
  {
   "cell_type": "code",
   "execution_count": 1,
   "metadata": {},
   "outputs": [],
   "source": [
    "import os\n",
    "import numpy as np\n",
    "import pandas as pd\n",
    "import pickle\n",
    "\n",
    "import tensorflow as tf\n",
    "tf.compat.v1.logging.set_verbosity (tf.compat.v1.logging.ERROR)\n",
    "\n",
    "import cpmolgan.utils as utils\n",
    "import cpmolgan.inference as infr\n",
    "import pkg_resources\n",
    "WEIGHTS_PATH = pkg_resources.resource_filename('cpmolgan','model_weights')\n",
    "\n",
    "import logging\n",
    "logging.basicConfig(level=logging.INFO, format ='%(levelname)s - %(message)s')\n",
    "tf.logging.set_verbosity(tf.logging.ERROR)\n"
   ]
  },
  {
   "cell_type": "markdown",
   "metadata": {},
   "source": [
    "### Arguments\n"
   ]
  },
  {
   "cell_type": "code",
   "execution_count": 2,
   "metadata": {},
   "outputs": [],
   "source": [
    "# Pick a cluster between 0 and 19\n",
    "cluster = '0'\n",
    "\n",
    "args = {\n",
    "    'use_gpu': True,\n",
    "    'gpu_device':'1',\n",
    "    'filename_generated_mols':f'results/generated_mols/Cluster{cluster}__15000_Valid.csv',\n",
    "}\n",
    "args['output_filename'] = args['filename_generated_mols'].replace('generated_mols','molecular_embeddings')\n",
    "\n",
    "if not os.path.isdir( os.path.split(args['output_filename'])[0] ): \n",
    "    os.makedirs( os.path.split(args['output_filename'])[0] )"
   ]
  },
  {
   "cell_type": "markdown",
   "metadata": {},
   "source": [
    "## 1. Set compute environment "
   ]
  },
  {
   "cell_type": "code",
   "execution_count": 3,
   "metadata": {},
   "outputs": [],
   "source": [
    "if args['use_gpu']:\n",
    "    os.environ['CUDA_VISIBLE_DEVICES'] = args['gpu_device']\n",
    "    gpu_options = tf.GPUOptions(visible_device_list='0')\n",
    "    tf.Session(config=tf.ConfigProto(gpu_options=gpu_options))\n",
    "    tf.config.set_soft_device_placement(True)\n",
    "    tf.debugging.set_log_device_placement(True)\n",
    "else:\n",
    "    os.environ['CUDA_VISIBLE_DEVICES'] = '-1'"
   ]
  },
  {
   "cell_type": "markdown",
   "metadata": {
    "jupyter": {
     "source_hidden": true
    },
    "tags": []
   },
   "source": [
    "## 2. Load inference model"
   ]
  },
  {
   "cell_type": "code",
   "execution_count": 4,
   "metadata": {},
   "outputs": [
    {
     "name": "stdout",
     "output_type": "stream",
     "text": [
      "Device mapping:\n",
      "/job:localhost/replica:0/task:0/device:XLA_CPU:0 -> device: XLA_CPU device\n",
      "/job:localhost/replica:0/task:0/device:XLA_GPU:0 -> device: XLA_GPU device\n",
      "/job:localhost/replica:0/task:0/device:GPU:0 -> device: 0, name: Tesla V100-SXM3-32GB, pci bus id: 0000:36:00.0, compute capability: 7.0\n",
      "\n"
     ]
    }
   ],
   "source": [
    "\n",
    "model_weigth_paths = {\n",
    "    'autoencoder': os.path.join(WEIGHTS_PATH,'autoencoder.h5'),\n",
    "    'wgan':{\n",
    "            'C': os.path.join(WEIGHTS_PATH,'gan_C.h5'),\n",
    "            'D': os.path.join(WEIGHTS_PATH,'gan_D.h5'),\n",
    "            'G': os.path.join(WEIGHTS_PATH,'gan_G.h5'),\n",
    "            'condition_encoder':os.path.join(WEIGHTS_PATH,'gan_condition_encoder.h5'),\n",
    "            'classifier':os.path.join(WEIGHTS_PATH,'gan_classifier.h5')\n",
    "            }\n",
    "}\n",
    "\n",
    "model = infr.InferenceModel( model_weigth_paths ) "
   ]
  },
  {
   "cell_type": "markdown",
   "metadata": {},
   "source": [
    "## 3. Read generated molecules"
   ]
  },
  {
   "cell_type": "code",
   "execution_count": 5,
   "metadata": {},
   "outputs": [],
   "source": [
    "# generated compounds\n",
    "data = pd.read_csv(args['filename_generated_mols'],index_col=0)\n"
   ]
  },
  {
   "cell_type": "markdown",
   "metadata": {},
   "source": [
    "## 4. Compute embeddings"
   ]
  },
  {
   "cell_type": "code",
   "execution_count": 6,
   "metadata": {},
   "outputs": [
    {
     "name": "stderr",
     "output_type": "stream",
     "text": [
      "INFO - File already exists\n"
     ]
    }
   ],
   "source": [
    "if not os.path.isfile(args['output_filename'] ):\n",
    "    logging.info(\"Computing selfies\")\n",
    "    smiles = data.SMILES_standard.values.astype(str)\n",
    "    selfies, valid_idx = model.encode_smiles_to_selfies(smiles)\n",
    "    logging.info(\"Removing %i unvalid selfies\"%(valid_idx==False).sum())\n",
    "    data = data.loc[valid_idx].reset_index(drop=True)\n",
    "    selfies = selfies[valid_idx]\n",
    "    logging.info(\"Computing latent representations\")\n",
    "    latents = model.encode_selfies_to_latent(selfies)\n",
    "    logging.info(\"Saving latent representations\")\n",
    "    embd_cols = ['MolEmb_'+str(i) for i in range(latents.shape[1])]\n",
    "    data = pd.concat( [data, pd.DataFrame( columns=embd_cols, data=latents)], axis=1)\n",
    "    logging.info(\"Saving file %s\"%args['output_filename'])\n",
    "    data.to_csv(args['output_filename'])\n",
    "else:\n",
    "    logging.info(\"File already exists\")\n",
    "    data = pd.read_csv(args['output_filename'],index_col=0)"
   ]
  },
  {
   "cell_type": "code",
   "execution_count": null,
   "metadata": {},
   "outputs": [],
   "source": []
  },
  {
   "cell_type": "code",
   "execution_count": null,
   "metadata": {},
   "outputs": [],
   "source": []
  }
 ],
 "metadata": {
  "kernelspec": {
   "display_name": "Python 3.6.10 ('cpmolgan')",
   "language": "python",
   "name": "python3"
  },
  "language_info": {
   "codemirror_mode": {
    "name": "ipython",
    "version": 3
   },
   "file_extension": ".py",
   "mimetype": "text/x-python",
   "name": "python",
   "nbconvert_exporter": "python",
   "pygments_lexer": "ipython3",
   "version": "3.6.10"
  },
  "vscode": {
   "interpreter": {
    "hash": "c523d9eda279fa4bb4f5cb4e0f9aaca1b2e33fee79d53bba9fa5bcd6fe7fb4f9"
   }
  }
 },
 "nbformat": 4,
 "nbformat_minor": 4
}
